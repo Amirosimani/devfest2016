{
 "cells": [
  {
   "cell_type": "code",
   "execution_count": null,
   "metadata": {
    "collapsed": false
   },
   "outputs": [],
   "source": [
    "from pymongo import MongoClient\n",
    "import os,http, http.client, urllib.request, urllib.parse, urllib.error, base64, json, numpy, time\n",
    "\n",
    "client = MongoClient('localhost', 27017)\n",
    "db = client.debate_database\n",
    "temporal_collection = db.temporal_collection\n",
    "\n",
    "aa = numpy.arange(1, 221501, 250)\n",
    "url_p = {}\n",
    "index = 1\n",
    "\n",
    "print(\"Obtaining response no. {0}\".format(str(index)))\n",
    "file1 = open(\"./matching text frame.json\").read()\n",
    "file2 = open(\"./data.json\").read()\n",
    "file1_data = json.loads(file1)\n",
    "file2_data = json.loads(file2)\n",
    "for j in file1_data: \n",
    "    for k in file2_data: \n",
    "        if (j[\"text_id\"] == k[\"id_text\"]):\n",
    "            imagerecord = \"{\\\"_id\\\" : \" + json.dumps(j['frame']) + \", \\\"frame\\\" : \" + json.dumps(j['frame']) + \", \\\"text_id\\\" : \" + json.dumps(k['id_text']) + \", \\\"entities\\\" : \" + json.dumps(k['entities']) + \", \\\"text_speach\\\" : \" +  json.dumps(k['text_speach']) + \"}\"\n",
    "            #print(imagerecord)\n",
    "            imagejson = json.loads(imagerecord) \n",
    "            post_id = temporal_collection.insert(imagejson)\n",
    "    \n"
   ]
  },
  {
   "cell_type": "code",
   "execution_count": null,
   "metadata": {
    "collapsed": true
   },
   "outputs": [],
   "source": []
  },
  {
   "cell_type": "code",
   "execution_count": null,
   "metadata": {
    "collapsed": true
   },
   "outputs": [],
   "source": []
  }
 ],
 "metadata": {
  "kernelspec": {
   "display_name": "Python 3",
   "language": "python",
   "name": "python3"
  },
  "language_info": {
   "codemirror_mode": {
    "name": "ipython",
    "version": 3
   },
   "file_extension": ".py",
   "mimetype": "text/x-python",
   "name": "python",
   "nbconvert_exporter": "python",
   "pygments_lexer": "ipython3",
   "version": "3.3.5"
  }
 },
 "nbformat": 4,
 "nbformat_minor": 0
}
