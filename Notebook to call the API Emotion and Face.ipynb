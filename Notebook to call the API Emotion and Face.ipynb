{
 "cells": [
  {
   "cell_type": "code",
   "execution_count": 77,
   "metadata": {
    "collapsed": false
   },
   "outputs": [
    {
     "name": "stdout",
     "output_type": "stream",
     "text": [
      "send request\n",
      "<class 'bytes'>\n",
      "b'[]'\n",
      "send request\n",
      "<class 'bytes'>\n",
      "b'[{\"faceId\":\"4d86c4cf-eca2-495a-8ebf-b59f8ece6133\",\"faceRectangle\":{\"top\":52,\"left\":248,\"width\":178,\"height\":178},\"attributes\":{\"headPose\":{\"pitch\":0.0,\"roll\":6.8,\"yaw\":48.0},\"gender\":\"male\",\"age\":66}}]'\n",
      "send request\n",
      "<class 'bytes'>\n",
      "b'[{\"faceId\":\"6d44add4-9520-420f-918e-3da7cee9be95\",\"faceRectangle\":{\"top\":80,\"left\":354,\"width\":124,\"height\":124},\"attributes\":{\"headPose\":{\"pitch\":0.0,\"roll\":-0.2,\"yaw\":-11.6},\"gender\":\"female\",\"age\":56}}]'\n",
      "send request\n",
      "<class 'bytes'>\n",
      "b'[{\"faceId\":\"55d06eb4-89aa-4956-b889-11b214ba1dcb\",\"faceRectangle\":{\"top\":69,\"left\":347,\"width\":145,\"height\":145},\"attributes\":{\"headPose\":{\"pitch\":0.0,\"roll\":-5.4,\"yaw\":-31.8},\"gender\":\"male\",\"age\":74}}]'\n",
      "send request\n",
      "<class 'bytes'>\n",
      "b'[]'\n",
      "send request\n",
      "<class 'bytes'>\n",
      "b'[]'\n",
      "send request\n",
      "<class 'bytes'>\n",
      "b'[{\"faceId\":\"1c0b2034-6755-438d-9a36-a54563bc231d\",\"faceRectangle\":{\"top\":106,\"left\":374,\"width\":63,\"height\":63},\"attributes\":{\"headPose\":{\"pitch\":0.0,\"roll\":12.7,\"yaw\":-29.8},\"gender\":\"female\",\"age\":32}},{\"faceId\":\"313d6545-1e3f-4489-b612-9e661d0d59f4\",\"faceRectangle\":{\"top\":123,\"left\":262,\"width\":56,\"height\":56},\"attributes\":{\"headPose\":{\"pitch\":0.0,\"roll\":9.5,\"yaw\":-24.1},\"gender\":\"female\",\"age\":30}},{\"faceId\":\"825f4b70-ef4a-4f60-ba59-bef382d1adf4\",\"faceRectangle\":{\"top\":151,\"left\":48,\"width\":54,\"height\":54},\"attributes\":{\"headPose\":{\"pitch\":0.0,\"roll\":-15.0,\"yaw\":27.1},\"gender\":\"female\",\"age\":5}},{\"faceId\":\"23de205b-7a34-47b7-a420-a29d7c2da2c0\",\"faceRectangle\":{\"top\":149,\"left\":155,\"width\":48,\"height\":48},\"attributes\":{\"headPose\":{\"pitch\":0.0,\"roll\":5.4,\"yaw\":23.9},\"gender\":\"male\",\"age\":26}},{\"faceId\":\"5937f144-187e-47bf-838c-94ee077a3d5a\",\"faceRectangle\":{\"top\":61,\"left\":233,\"width\":47,\"height\":47},\"attributes\":{\"headPose\":{\"pitch\":0.0,\"roll\":5.0,\"yaw\":-31.7},\"gender\":\"male\",\"age\":35}},{\"faceId\":\"d5be80d5-217a-4a35-b94b-83fe50550439\",\"faceRectangle\":{\"top\":10,\"left\":157,\"width\":45,\"height\":45},\"attributes\":{\"headPose\":{\"pitch\":0.0,\"roll\":-8.3,\"yaw\":-8.9},\"gender\":\"male\",\"age\":31}}]'\n",
      "send request\n",
      "<class 'bytes'>\n",
      "b'[]'\n",
      "send request\n",
      "<class 'bytes'>\n",
      "b'[{\"faceId\":\"239f5692-de84-4afd-89aa-57a02ba14ed1\",\"faceRectangle\":{\"top\":71,\"left\":416,\"width\":64,\"height\":64},\"attributes\":{\"headPose\":{\"pitch\":0.0,\"roll\":3.2,\"yaw\":-8.1},\"gender\":\"male\",\"age\":37}}]'\n",
      "send request\n",
      "<class 'bytes'>\n",
      "b'[{\"faceId\":\"c898cd4e-2de6-4188-86fd-a518ef124704\",\"faceRectangle\":{\"top\":65,\"left\":402,\"width\":59,\"height\":59},\"attributes\":{\"headPose\":{\"pitch\":0.0,\"roll\":5.1,\"yaw\":-21.4},\"gender\":\"male\",\"age\":35}},{\"faceId\":\"23b6f82e-a9f4-406c-9f92-0a81afdef1a6\",\"faceRectangle\":{\"top\":55,\"left\":146,\"width\":53,\"height\":53},\"attributes\":{\"headPose\":{\"pitch\":0.0,\"roll\":-3.5,\"yaw\":11.2},\"gender\":\"female\",\"age\":44}}]'\n",
      "send request\n",
      "<class 'bytes'>\n",
      "b'[{\"faceId\":\"f5fc9e58-6d78-47ec-8c3b-cbcb8767e578\",\"faceRectangle\":{\"top\":67,\"left\":389,\"width\":57,\"height\":57},\"attributes\":{\"headPose\":{\"pitch\":0.0,\"roll\":6.4,\"yaw\":-36.3},\"gender\":\"male\",\"age\":29}},{\"faceId\":\"0033aaa8-f5c9-45eb-9ee0-633437621b46\",\"faceRectangle\":{\"top\":64,\"left\":114,\"width\":55,\"height\":55},\"attributes\":{\"headPose\":{\"pitch\":0.0,\"roll\":-7.1,\"yaw\":5.6},\"gender\":\"female\",\"age\":31}}]'\n",
      "send request\n",
      "<class 'bytes'>\n",
      "b'[{\"faceId\":\"b53162c2-9b63-444c-907a-efcc44917423\",\"faceRectangle\":{\"top\":77,\"left\":366,\"width\":67,\"height\":67},\"attributes\":{\"headPose\":{\"pitch\":0.0,\"roll\":-3.3,\"yaw\":-29.6},\"gender\":\"male\",\"age\":35}},{\"faceId\":\"b675d63a-9297-4ad6-a56c-7e741f4079d5\",\"faceRectangle\":{\"top\":69,\"left\":145,\"width\":58,\"height\":58},\"attributes\":{\"headPose\":{\"pitch\":0.0,\"roll\":-1.4,\"yaw\":16.2},\"gender\":\"female\",\"age\":30}}]'\n",
      "send request\n",
      "<class 'bytes'>\n",
      "b'[{\"faceId\":\"5c695636-6579-4a0e-81b0-7a6d54539e8b\",\"faceRectangle\":{\"top\":74,\"left\":379,\"width\":69,\"height\":69},\"attributes\":{\"headPose\":{\"pitch\":0.0,\"roll\":-4.2,\"yaw\":-16.7},\"gender\":\"male\",\"age\":37}},{\"faceId\":\"067856b4-7e5e-47d5-9558-0245ab1eb9a0\",\"faceRectangle\":{\"top\":76,\"left\":145,\"width\":59,\"height\":59},\"attributes\":{\"headPose\":{\"pitch\":0.0,\"roll\":0.8,\"yaw\":17.4},\"gender\":\"female\",\"age\":31}}]'\n",
      "send request\n",
      "<class 'bytes'>\n",
      "b'[{\"faceId\":\"ac94770b-cf6e-4948-9e1c-34b625058be3\",\"faceRectangle\":{\"top\":81,\"left\":99,\"width\":58,\"height\":58},\"attributes\":{\"headPose\":{\"pitch\":0.0,\"roll\":0.3,\"yaw\":-4.0},\"gender\":\"female\",\"age\":31}},{\"faceId\":\"79fc7f11-b0f5-4e29-aaa2-d7664c348c24\",\"faceRectangle\":{\"top\":77,\"left\":407,\"width\":56,\"height\":56},\"attributes\":{\"headPose\":{\"pitch\":0.0,\"roll\":7.0,\"yaw\":-32.5},\"gender\":\"male\",\"age\":36}}]'\n",
      "send request\n",
      "<class 'bytes'>\n",
      "b'[{\"faceId\":\"7908b238-4600-439a-b547-55da7470091d\",\"faceRectangle\":{\"top\":64,\"left\":408,\"width\":67,\"height\":67},\"attributes\":{\"headPose\":{\"pitch\":0.0,\"roll\":-1.2,\"yaw\":-15.6},\"gender\":\"male\",\"age\":36}},{\"faceId\":\"27d9c2e0-d143-478d-93ad-0fb8a5cbba27\",\"faceRectangle\":{\"top\":71,\"left\":98,\"width\":61,\"height\":61},\"attributes\":{\"headPose\":{\"pitch\":0.0,\"roll\":5.3,\"yaw\":-10.8},\"gender\":\"female\",\"age\":43}}]'\n",
      "send request\n",
      "<class 'bytes'>\n",
      "b'[{\"faceId\":\"86023f49-db0c-4509-9363-2cafb8c7288e\",\"faceRectangle\":{\"top\":254,\"left\":6,\"width\":73,\"height\":73},\"attributes\":{\"headPose\":{\"pitch\":0.0,\"roll\":-7.7,\"yaw\":8.8},\"gender\":\"male\",\"age\":72}},{\"faceId\":\"c333e7cb-7ea3-41ac-881c-a948a070bb88\",\"faceRectangle\":{\"top\":235,\"left\":207,\"width\":55,\"height\":55},\"attributes\":{\"headPose\":{\"pitch\":0.0,\"roll\":-12.5,\"yaw\":31.5},\"gender\":\"male\",\"age\":20}},{\"faceId\":\"b5a41791-6bc0-4676-bf2c-3f7edaa99ac6\",\"faceRectangle\":{\"top\":184,\"left\":102,\"width\":52,\"height\":52},\"attributes\":{\"headPose\":{\"pitch\":0.0,\"roll\":-1.8,\"yaw\":18.6},\"gender\":\"male\",\"age\":56}},{\"faceId\":\"045fdb53-b29f-4f82-9c82-5e039e7a8900\",\"faceRectangle\":{\"top\":250,\"left\":530,\"width\":50,\"height\":50},\"attributes\":{\"headPose\":{\"pitch\":0.0,\"roll\":-6.5,\"yaw\":20.6},\"gender\":\"male\",\"age\":49}},{\"faceId\":\"f67918e6-32ee-4695-bb15-e81d0ae2e67e\",\"faceRectangle\":{\"top\":47,\"left\":95,\"width\":35,\"height\":35},\"attributes\":{\"headPose\":{\"pitch\":0.0,\"roll\":-3.2,\"yaw\":22.7},\"gender\":\"male\",\"age\":42}}]'\n",
      "send request\n",
      "<class 'bytes'>\n",
      "b'[]'\n",
      "send request\n",
      "<class 'bytes'>\n",
      "b'[]'\n",
      "send request\n",
      "<class 'bytes'>\n",
      "b'{ \"statusCode\": 429, \"message\": \"Rate limit is exceeded. Try again in 1 seconds.\" }'\n",
      "send request\n",
      "<class 'bytes'>\n",
      "b'{ \"statusCode\": 429, \"message\": \"Rate limit is exceeded. Try again in 1 seconds.\" }'\n",
      "send request\n",
      "<class 'bytes'>\n",
      "b'[{\"faceId\":\"9211bfe9-fcc0-41cd-bcec-4aed188bd55c\",\"faceRectangle\":{\"top\":110,\"left\":261,\"width\":43,\"height\":43},\"attributes\":{\"headPose\":{\"pitch\":0.0,\"roll\":-3.1,\"yaw\":26.3},\"gender\":\"male\",\"age\":46}},{\"faceId\":\"330c25c9-b0f6-459c-8f0a-8a63ce41b536\",\"faceRectangle\":{\"top\":108,\"left\":423,\"width\":34,\"height\":34},\"attributes\":{\"headPose\":{\"pitch\":0.0,\"roll\":10.0,\"yaw\":-0.3},\"gender\":\"female\",\"age\":33}}]'\n",
      "send request\n",
      "<class 'bytes'>\n",
      "b'[{\"faceId\":\"9c7d6e55-3c94-424c-857e-2f120c7d7013\",\"faceRectangle\":{\"top\":77,\"left\":214,\"width\":49,\"height\":49},\"attributes\":{\"headPose\":{\"pitch\":0.0,\"roll\":1.5,\"yaw\":-3.5},\"gender\":\"male\",\"age\":35}},{\"faceId\":\"e745210c-695d-4a7a-85d8-2e9e31fb5d1c\",\"faceRectangle\":{\"top\":77,\"left\":389,\"width\":35,\"height\":35},\"attributes\":{\"headPose\":{\"pitch\":0.0,\"roll\":1.1,\"yaw\":-4.1},\"gender\":\"female\",\"age\":32}}]'\n",
      "send request\n",
      "<class 'bytes'>\n",
      "b'{ \"statusCode\": 429, \"message\": \"Rate limit is exceeded. Try again in 43 seconds.\" }'\n",
      "send request\n",
      "<class 'bytes'>\n",
      "b'{ \"statusCode\": 429, \"message\": \"Rate limit is exceeded. Try again in 42 seconds.\" }'\n",
      "send request\n",
      "<class 'bytes'>\n",
      "b'{ \"statusCode\": 429, \"message\": \"Rate limit is exceeded. Try again in 42 seconds.\" }'\n",
      "send request\n",
      "<class 'bytes'>\n",
      "b'{ \"statusCode\": 429, \"message\": \"Rate limit is exceeded. Try again in 42 seconds.\" }'\n",
      "send request\n",
      "<class 'bytes'>\n",
      "b'{ \"statusCode\": 429, \"message\": \"Rate limit is exceeded. Try again in 41 seconds.\" }'\n",
      "send request\n",
      "<class 'bytes'>\n",
      "b'{ \"statusCode\": 429, \"message\": \"Rate limit is exceeded. Try again in 41 seconds.\" }'\n",
      "send request\n",
      "<class 'bytes'>\n",
      "b'{ \"statusCode\": 429, \"message\": \"Rate limit is exceeded. Try again in 40 seconds.\" }'\n",
      "send request\n",
      "<class 'bytes'>\n",
      "b'{ \"statusCode\": 429, \"message\": \"Rate limit is exceeded. Try again in 40 seconds.\" }'\n",
      "send request\n",
      "<class 'bytes'>\n",
      "b'{ \"statusCode\": 429, \"message\": \"Rate limit is exceeded. Try again in 40 seconds.\" }'\n",
      "send request\n",
      "<class 'bytes'>\n",
      "b'{ \"statusCode\": 429, \"message\": \"Rate limit is exceeded. Try again in 39 seconds.\" }'\n",
      "send request\n",
      "<class 'bytes'>\n",
      "b'{ \"statusCode\": 429, \"message\": \"Rate limit is exceeded. Try again in 39 seconds.\" }'\n",
      "send request\n",
      "<class 'bytes'>\n",
      "b'{ \"statusCode\": 429, \"message\": \"Rate limit is exceeded. Try again in 39 seconds.\" }'\n",
      "send request\n",
      "<class 'bytes'>\n",
      "b'{ \"statusCode\": 429, \"message\": \"Rate limit is exceeded. Try again in 38 seconds.\" }'\n",
      "send request\n",
      "<class 'bytes'>\n",
      "b'{ \"statusCode\": 429, \"message\": \"Rate limit is exceeded. Try again in 38 seconds.\" }'\n",
      "send request\n",
      "<class 'bytes'>\n",
      "b'{ \"statusCode\": 429, \"message\": \"Rate limit is exceeded. Try again in 37 seconds.\" }'\n",
      "send request\n",
      "<class 'bytes'>\n",
      "b'{ \"statusCode\": 429, \"message\": \"Rate limit is exceeded. Try again in 37 seconds.\" }'\n",
      "send request\n",
      "<class 'bytes'>\n",
      "b'{ \"statusCode\": 429, \"message\": \"Rate limit is exceeded. Try again in 37 seconds.\" }'\n",
      "send request\n",
      "<class 'bytes'>\n",
      "b'{ \"statusCode\": 429, \"message\": \"Rate limit is exceeded. Try again in 36 seconds.\" }'\n",
      "send request\n",
      "<class 'bytes'>\n",
      "b'{ \"statusCode\": 429, \"message\": \"Rate limit is exceeded. Try again in 36 seconds.\" }'\n",
      "send request\n",
      "<class 'bytes'>\n",
      "b'{ \"statusCode\": 429, \"message\": \"Rate limit is exceeded. Try again in 35 seconds.\" }'\n",
      "send request\n",
      "<class 'bytes'>\n",
      "b'{ \"statusCode\": 429, \"message\": \"Rate limit is exceeded. Try again in 35 seconds.\" }'\n",
      "send request\n",
      "<class 'bytes'>\n",
      "b'{ \"statusCode\": 429, \"message\": \"Rate limit is exceeded. Try again in 35 seconds.\" }'\n",
      "send request\n",
      "<class 'bytes'>\n",
      "b'{ \"statusCode\": 429, \"message\": \"Rate limit is exceeded. Try again in 34 seconds.\" }'\n",
      "send request\n",
      "<class 'bytes'>\n",
      "b'{ \"statusCode\": 429, \"message\": \"Rate limit is exceeded. Try again in 34 seconds.\" }'\n",
      "send request\n",
      "<class 'bytes'>\n",
      "b'{ \"statusCode\": 429, \"message\": \"Rate limit is exceeded. Try again in 34 seconds.\" }'\n",
      "send request\n",
      "<class 'bytes'>\n",
      "b'{ \"statusCode\": 429, \"message\": \"Rate limit is exceeded. Try again in 33 seconds.\" }'\n",
      "send request\n",
      "<class 'bytes'>\n",
      "b'{ \"statusCode\": 429, \"message\": \"Rate limit is exceeded. Try again in 33 seconds.\" }'\n",
      "send request\n",
      "<class 'bytes'>\n",
      "b'{ \"statusCode\": 429, \"message\": \"Rate limit is exceeded. Try again in 33 seconds.\" }'\n",
      "send request\n",
      "<class 'bytes'>\n",
      "b'{ \"statusCode\": 429, \"message\": \"Rate limit is exceeded. Try again in 32 seconds.\" }'\n",
      "send request\n",
      "<class 'bytes'>\n",
      "b'{ \"statusCode\": 429, \"message\": \"Rate limit is exceeded. Try again in 32 seconds.\" }'\n",
      "send request\n",
      "<class 'bytes'>\n",
      "b'{ \"statusCode\": 429, \"message\": \"Rate limit is exceeded. Try again in 31 seconds.\" }'\n",
      "send request\n",
      "<class 'bytes'>\n",
      "b'{ \"statusCode\": 429, \"message\": \"Rate limit is exceeded. Try again in 31 seconds.\" }'\n",
      "send request\n",
      "<class 'bytes'>\n",
      "b'{ \"statusCode\": 429, \"message\": \"Rate limit is exceeded. Try again in 31 seconds.\" }'\n",
      "send request\n",
      "<class 'bytes'>\n",
      "b'{ \"statusCode\": 429, \"message\": \"Rate limit is exceeded. Try again in 30 seconds.\" }'\n",
      "send request\n",
      "<class 'bytes'>\n",
      "b'{ \"statusCode\": 429, \"message\": \"Rate limit is exceeded. Try again in 30 seconds.\" }'\n",
      "send request\n",
      "<class 'bytes'>\n",
      "b'{ \"statusCode\": 429, \"message\": \"Rate limit is exceeded. Try again in 29 seconds.\" }'\n",
      "send request\n",
      "<class 'bytes'>\n",
      "b'{ \"statusCode\": 429, \"message\": \"Rate limit is exceeded. Try again in 29 seconds.\" }'\n",
      "send request\n",
      "<class 'bytes'>\n",
      "b'{ \"statusCode\": 429, \"message\": \"Rate limit is exceeded. Try again in 29 seconds.\" }'\n",
      "send request\n",
      "<class 'bytes'>\n",
      "b'{ \"statusCode\": 429, \"message\": \"Rate limit is exceeded. Try again in 28 seconds.\" }'\n",
      "send request\n",
      "<class 'bytes'>\n",
      "b'{ \"statusCode\": 429, \"message\": \"Rate limit is exceeded. Try again in 28 seconds.\" }'\n",
      "send request\n",
      "<class 'bytes'>\n",
      "b'{ \"statusCode\": 429, \"message\": \"Rate limit is exceeded. Try again in 28 seconds.\" }'\n",
      "send request\n",
      "<class 'bytes'>\n",
      "b'{ \"statusCode\": 429, \"message\": \"Rate limit is exceeded. Try again in 27 seconds.\" }'\n",
      "send request\n",
      "<class 'bytes'>\n",
      "b'{ \"statusCode\": 429, \"message\": \"Rate limit is exceeded. Try again in 27 seconds.\" }'\n",
      "send request\n",
      "<class 'bytes'>\n",
      "b'{ \"statusCode\": 429, \"message\": \"Rate limit is exceeded. Try again in 26 seconds.\" }'\n",
      "send request\n",
      "<class 'bytes'>\n",
      "b'{ \"statusCode\": 429, \"message\": \"Rate limit is exceeded. Try again in 26 seconds.\" }'\n",
      "send request\n",
      "<class 'bytes'>\n",
      "b'{ \"statusCode\": 429, \"message\": \"Rate limit is exceeded. Try again in 25 seconds.\" }'\n",
      "send request\n",
      "<class 'bytes'>\n",
      "b'{ \"statusCode\": 429, \"message\": \"Rate limit is exceeded. Try again in 25 seconds.\" }'\n",
      "send request\n",
      "<class 'bytes'>\n",
      "b'{ \"statusCode\": 429, \"message\": \"Rate limit is exceeded. Try again in 25 seconds.\" }'\n",
      "send request\n",
      "<class 'bytes'>\n",
      "b'{ \"statusCode\": 429, \"message\": \"Rate limit is exceeded. Try again in 24 seconds.\" }'\n",
      "send request\n",
      "<class 'bytes'>\n",
      "b'{ \"statusCode\": 429, \"message\": \"Rate limit is exceeded. Try again in 24 seconds.\" }'\n"
     ]
    },
    {
     "ename": "KeyboardInterrupt",
     "evalue": "",
     "output_type": "error",
     "traceback": [
      "\u001b[0;31m---------------------------------------------------------------------------\u001b[0m",
      "\u001b[0;31mKeyboardInterrupt\u001b[0m                         Traceback (most recent call last)",
      "\u001b[0;32m<ipython-input-77-cfb84365cc09>\u001b[0m in \u001b[0;36m<module>\u001b[0;34m()\u001b[0m\n\u001b[1;32m     25\u001b[0m     \u001b[0;32mtry\u001b[0m\u001b[0;34m:\u001b[0m\u001b[0;34m\u001b[0m\u001b[0m\n\u001b[1;32m     26\u001b[0m        \u001b[0mconn\u001b[0m \u001b[0;34m=\u001b[0m \u001b[0mhttp\u001b[0m\u001b[0;34m.\u001b[0m\u001b[0mclient\u001b[0m\u001b[0;34m.\u001b[0m\u001b[0mHTTPSConnection\u001b[0m\u001b[0;34m(\u001b[0m\u001b[0;34m'api.projectoxford.ai'\u001b[0m\u001b[0;34m)\u001b[0m\u001b[0;34m\u001b[0m\u001b[0m\n\u001b[0;32m---> 27\u001b[0;31m        \u001b[0mconn\u001b[0m\u001b[0;34m.\u001b[0m\u001b[0mrequest\u001b[0m\u001b[0;34m(\u001b[0m\u001b[0;34m\"POST\"\u001b[0m\u001b[0;34m,\u001b[0m \u001b[0;34m\"/face/v0/detections?%s\"\u001b[0m \u001b[0;34m%\u001b[0m \u001b[0mparams\u001b[0m\u001b[0;34m,\u001b[0m \u001b[0mbody\u001b[0m\u001b[0;34m,\u001b[0m \u001b[0mheaders\u001b[0m\u001b[0;34m)\u001b[0m\u001b[0;34m\u001b[0m\u001b[0m\n\u001b[0m\u001b[1;32m     28\u001b[0m        \u001b[0mprint\u001b[0m\u001b[0;34m(\u001b[0m\u001b[0;34m\"send request\"\u001b[0m\u001b[0;34m)\u001b[0m\u001b[0;34m\u001b[0m\u001b[0m\n\u001b[1;32m     29\u001b[0m        \u001b[0mresponse\u001b[0m \u001b[0;34m=\u001b[0m \u001b[0mconn\u001b[0m\u001b[0;34m.\u001b[0m\u001b[0mgetresponse\u001b[0m\u001b[0;34m(\u001b[0m\u001b[0;34m)\u001b[0m\u001b[0;34m\u001b[0m\u001b[0m\n",
      "\u001b[0;32m/Library/Frameworks/Python.framework/Versions/3.5/lib/python3.5/http/client.py\u001b[0m in \u001b[0;36mrequest\u001b[0;34m(self, method, url, body, headers)\u001b[0m\n\u001b[1;32m   1081\u001b[0m     \u001b[0;32mdef\u001b[0m \u001b[0mrequest\u001b[0m\u001b[0;34m(\u001b[0m\u001b[0mself\u001b[0m\u001b[0;34m,\u001b[0m \u001b[0mmethod\u001b[0m\u001b[0;34m,\u001b[0m \u001b[0murl\u001b[0m\u001b[0;34m,\u001b[0m \u001b[0mbody\u001b[0m\u001b[0;34m=\u001b[0m\u001b[0;32mNone\u001b[0m\u001b[0;34m,\u001b[0m \u001b[0mheaders\u001b[0m\u001b[0;34m=\u001b[0m\u001b[0;34m{\u001b[0m\u001b[0;34m}\u001b[0m\u001b[0;34m)\u001b[0m\u001b[0;34m:\u001b[0m\u001b[0;34m\u001b[0m\u001b[0m\n\u001b[1;32m   1082\u001b[0m         \u001b[0;34m\"\"\"Send a complete request to the server.\"\"\"\u001b[0m\u001b[0;34m\u001b[0m\u001b[0m\n\u001b[0;32m-> 1083\u001b[0;31m         \u001b[0mself\u001b[0m\u001b[0;34m.\u001b[0m\u001b[0m_send_request\u001b[0m\u001b[0;34m(\u001b[0m\u001b[0mmethod\u001b[0m\u001b[0;34m,\u001b[0m \u001b[0murl\u001b[0m\u001b[0;34m,\u001b[0m \u001b[0mbody\u001b[0m\u001b[0;34m,\u001b[0m \u001b[0mheaders\u001b[0m\u001b[0;34m)\u001b[0m\u001b[0;34m\u001b[0m\u001b[0m\n\u001b[0m\u001b[1;32m   1084\u001b[0m \u001b[0;34m\u001b[0m\u001b[0m\n\u001b[1;32m   1085\u001b[0m     \u001b[0;32mdef\u001b[0m \u001b[0m_set_content_length\u001b[0m\u001b[0;34m(\u001b[0m\u001b[0mself\u001b[0m\u001b[0;34m,\u001b[0m \u001b[0mbody\u001b[0m\u001b[0;34m,\u001b[0m \u001b[0mmethod\u001b[0m\u001b[0;34m)\u001b[0m\u001b[0;34m:\u001b[0m\u001b[0;34m\u001b[0m\u001b[0m\n",
      "\u001b[0;32m/Library/Frameworks/Python.framework/Versions/3.5/lib/python3.5/http/client.py\u001b[0m in \u001b[0;36m_send_request\u001b[0;34m(self, method, url, body, headers)\u001b[0m\n\u001b[1;32m   1126\u001b[0m             \u001b[0;31m# default charset of iso-8859-1.\u001b[0m\u001b[0;34m\u001b[0m\u001b[0;34m\u001b[0m\u001b[0m\n\u001b[1;32m   1127\u001b[0m             \u001b[0mbody\u001b[0m \u001b[0;34m=\u001b[0m \u001b[0mbody\u001b[0m\u001b[0;34m.\u001b[0m\u001b[0mencode\u001b[0m\u001b[0;34m(\u001b[0m\u001b[0;34m'iso-8859-1'\u001b[0m\u001b[0;34m)\u001b[0m\u001b[0;34m\u001b[0m\u001b[0m\n\u001b[0;32m-> 1128\u001b[0;31m         \u001b[0mself\u001b[0m\u001b[0;34m.\u001b[0m\u001b[0mendheaders\u001b[0m\u001b[0;34m(\u001b[0m\u001b[0mbody\u001b[0m\u001b[0;34m)\u001b[0m\u001b[0;34m\u001b[0m\u001b[0m\n\u001b[0m\u001b[1;32m   1129\u001b[0m \u001b[0;34m\u001b[0m\u001b[0m\n\u001b[1;32m   1130\u001b[0m     \u001b[0;32mdef\u001b[0m \u001b[0mgetresponse\u001b[0m\u001b[0;34m(\u001b[0m\u001b[0mself\u001b[0m\u001b[0;34m)\u001b[0m\u001b[0;34m:\u001b[0m\u001b[0;34m\u001b[0m\u001b[0m\n",
      "\u001b[0;32m/Library/Frameworks/Python.framework/Versions/3.5/lib/python3.5/http/client.py\u001b[0m in \u001b[0;36mendheaders\u001b[0;34m(self, message_body)\u001b[0m\n\u001b[1;32m   1077\u001b[0m         \u001b[0;32melse\u001b[0m\u001b[0;34m:\u001b[0m\u001b[0;34m\u001b[0m\u001b[0m\n\u001b[1;32m   1078\u001b[0m             \u001b[0;32mraise\u001b[0m \u001b[0mCannotSendHeader\u001b[0m\u001b[0;34m(\u001b[0m\u001b[0;34m)\u001b[0m\u001b[0;34m\u001b[0m\u001b[0m\n\u001b[0;32m-> 1079\u001b[0;31m         \u001b[0mself\u001b[0m\u001b[0;34m.\u001b[0m\u001b[0m_send_output\u001b[0m\u001b[0;34m(\u001b[0m\u001b[0mmessage_body\u001b[0m\u001b[0;34m)\u001b[0m\u001b[0;34m\u001b[0m\u001b[0m\n\u001b[0m\u001b[1;32m   1080\u001b[0m \u001b[0;34m\u001b[0m\u001b[0m\n\u001b[1;32m   1081\u001b[0m     \u001b[0;32mdef\u001b[0m \u001b[0mrequest\u001b[0m\u001b[0;34m(\u001b[0m\u001b[0mself\u001b[0m\u001b[0;34m,\u001b[0m \u001b[0mmethod\u001b[0m\u001b[0;34m,\u001b[0m \u001b[0murl\u001b[0m\u001b[0;34m,\u001b[0m \u001b[0mbody\u001b[0m\u001b[0;34m=\u001b[0m\u001b[0;32mNone\u001b[0m\u001b[0;34m,\u001b[0m \u001b[0mheaders\u001b[0m\u001b[0;34m=\u001b[0m\u001b[0;34m{\u001b[0m\u001b[0;34m}\u001b[0m\u001b[0;34m)\u001b[0m\u001b[0;34m:\u001b[0m\u001b[0;34m\u001b[0m\u001b[0m\n",
      "\u001b[0;32m/Library/Frameworks/Python.framework/Versions/3.5/lib/python3.5/http/client.py\u001b[0m in \u001b[0;36m_send_output\u001b[0;34m(self, message_body)\u001b[0m\n\u001b[1;32m    909\u001b[0m         \u001b[0;32mdel\u001b[0m \u001b[0mself\u001b[0m\u001b[0;34m.\u001b[0m\u001b[0m_buffer\u001b[0m\u001b[0;34m[\u001b[0m\u001b[0;34m:\u001b[0m\u001b[0;34m]\u001b[0m\u001b[0;34m\u001b[0m\u001b[0m\n\u001b[1;32m    910\u001b[0m \u001b[0;34m\u001b[0m\u001b[0m\n\u001b[0;32m--> 911\u001b[0;31m         \u001b[0mself\u001b[0m\u001b[0;34m.\u001b[0m\u001b[0msend\u001b[0m\u001b[0;34m(\u001b[0m\u001b[0mmsg\u001b[0m\u001b[0;34m)\u001b[0m\u001b[0;34m\u001b[0m\u001b[0m\n\u001b[0m\u001b[1;32m    912\u001b[0m         \u001b[0;32mif\u001b[0m \u001b[0mmessage_body\u001b[0m \u001b[0;32mis\u001b[0m \u001b[0;32mnot\u001b[0m \u001b[0;32mNone\u001b[0m\u001b[0;34m:\u001b[0m\u001b[0;34m\u001b[0m\u001b[0m\n\u001b[1;32m    913\u001b[0m             \u001b[0mself\u001b[0m\u001b[0;34m.\u001b[0m\u001b[0msend\u001b[0m\u001b[0;34m(\u001b[0m\u001b[0mmessage_body\u001b[0m\u001b[0;34m)\u001b[0m\u001b[0;34m\u001b[0m\u001b[0m\n",
      "\u001b[0;32m/Library/Frameworks/Python.framework/Versions/3.5/lib/python3.5/http/client.py\u001b[0m in \u001b[0;36msend\u001b[0;34m(self, data)\u001b[0m\n\u001b[1;32m    852\u001b[0m         \u001b[0;32mif\u001b[0m \u001b[0mself\u001b[0m\u001b[0;34m.\u001b[0m\u001b[0msock\u001b[0m \u001b[0;32mis\u001b[0m \u001b[0;32mNone\u001b[0m\u001b[0;34m:\u001b[0m\u001b[0;34m\u001b[0m\u001b[0m\n\u001b[1;32m    853\u001b[0m             \u001b[0;32mif\u001b[0m \u001b[0mself\u001b[0m\u001b[0;34m.\u001b[0m\u001b[0mauto_open\u001b[0m\u001b[0;34m:\u001b[0m\u001b[0;34m\u001b[0m\u001b[0m\n\u001b[0;32m--> 854\u001b[0;31m                 \u001b[0mself\u001b[0m\u001b[0;34m.\u001b[0m\u001b[0mconnect\u001b[0m\u001b[0;34m(\u001b[0m\u001b[0;34m)\u001b[0m\u001b[0;34m\u001b[0m\u001b[0m\n\u001b[0m\u001b[1;32m    855\u001b[0m             \u001b[0;32melse\u001b[0m\u001b[0;34m:\u001b[0m\u001b[0;34m\u001b[0m\u001b[0m\n\u001b[1;32m    856\u001b[0m                 \u001b[0;32mraise\u001b[0m \u001b[0mNotConnected\u001b[0m\u001b[0;34m(\u001b[0m\u001b[0;34m)\u001b[0m\u001b[0;34m\u001b[0m\u001b[0m\n",
      "\u001b[0;32m/Library/Frameworks/Python.framework/Versions/3.5/lib/python3.5/http/client.py\u001b[0m in \u001b[0;36mconnect\u001b[0;34m(self)\u001b[0m\n\u001b[1;32m   1235\u001b[0m \u001b[0;34m\u001b[0m\u001b[0m\n\u001b[1;32m   1236\u001b[0m             self.sock = self._context.wrap_socket(self.sock,\n\u001b[0;32m-> 1237\u001b[0;31m                                                   server_hostname=server_hostname)\n\u001b[0m\u001b[1;32m   1238\u001b[0m             \u001b[0;32mif\u001b[0m \u001b[0;32mnot\u001b[0m \u001b[0mself\u001b[0m\u001b[0;34m.\u001b[0m\u001b[0m_context\u001b[0m\u001b[0;34m.\u001b[0m\u001b[0mcheck_hostname\u001b[0m \u001b[0;32mand\u001b[0m \u001b[0mself\u001b[0m\u001b[0;34m.\u001b[0m\u001b[0m_check_hostname\u001b[0m\u001b[0;34m:\u001b[0m\u001b[0;34m\u001b[0m\u001b[0m\n\u001b[1;32m   1239\u001b[0m                 \u001b[0;32mtry\u001b[0m\u001b[0;34m:\u001b[0m\u001b[0;34m\u001b[0m\u001b[0m\n",
      "\u001b[0;32m/Library/Frameworks/Python.framework/Versions/3.5/lib/python3.5/ssl.py\u001b[0m in \u001b[0;36mwrap_socket\u001b[0;34m(self, sock, server_side, do_handshake_on_connect, suppress_ragged_eofs, server_hostname)\u001b[0m\n\u001b[1;32m    374\u001b[0m                          \u001b[0msuppress_ragged_eofs\u001b[0m\u001b[0;34m=\u001b[0m\u001b[0msuppress_ragged_eofs\u001b[0m\u001b[0;34m,\u001b[0m\u001b[0;34m\u001b[0m\u001b[0m\n\u001b[1;32m    375\u001b[0m                          \u001b[0mserver_hostname\u001b[0m\u001b[0;34m=\u001b[0m\u001b[0mserver_hostname\u001b[0m\u001b[0;34m,\u001b[0m\u001b[0;34m\u001b[0m\u001b[0m\n\u001b[0;32m--> 376\u001b[0;31m                          _context=self)\n\u001b[0m\u001b[1;32m    377\u001b[0m \u001b[0;34m\u001b[0m\u001b[0m\n\u001b[1;32m    378\u001b[0m     def wrap_bio(self, incoming, outgoing, server_side=False,\n",
      "\u001b[0;32m/Library/Frameworks/Python.framework/Versions/3.5/lib/python3.5/ssl.py\u001b[0m in \u001b[0;36m__init__\u001b[0;34m(self, sock, keyfile, certfile, server_side, cert_reqs, ssl_version, ca_certs, do_handshake_on_connect, family, type, proto, fileno, suppress_ragged_eofs, npn_protocols, ciphers, server_hostname, _context)\u001b[0m\n\u001b[1;32m    745\u001b[0m                         \u001b[0;31m# non-blocking\u001b[0m\u001b[0;34m\u001b[0m\u001b[0;34m\u001b[0m\u001b[0m\n\u001b[1;32m    746\u001b[0m                         \u001b[0;32mraise\u001b[0m \u001b[0mValueError\u001b[0m\u001b[0;34m(\u001b[0m\u001b[0;34m\"do_handshake_on_connect should not be specified for non-blocking sockets\"\u001b[0m\u001b[0;34m)\u001b[0m\u001b[0;34m\u001b[0m\u001b[0m\n\u001b[0;32m--> 747\u001b[0;31m                     \u001b[0mself\u001b[0m\u001b[0;34m.\u001b[0m\u001b[0mdo_handshake\u001b[0m\u001b[0;34m(\u001b[0m\u001b[0;34m)\u001b[0m\u001b[0;34m\u001b[0m\u001b[0m\n\u001b[0m\u001b[1;32m    748\u001b[0m \u001b[0;34m\u001b[0m\u001b[0m\n\u001b[1;32m    749\u001b[0m             \u001b[0;32mexcept\u001b[0m \u001b[0;34m(\u001b[0m\u001b[0mOSError\u001b[0m\u001b[0;34m,\u001b[0m \u001b[0mValueError\u001b[0m\u001b[0;34m)\u001b[0m\u001b[0;34m:\u001b[0m\u001b[0;34m\u001b[0m\u001b[0m\n",
      "\u001b[0;32m/Library/Frameworks/Python.framework/Versions/3.5/lib/python3.5/ssl.py\u001b[0m in \u001b[0;36mdo_handshake\u001b[0;34m(self, block)\u001b[0m\n\u001b[1;32m    981\u001b[0m             \u001b[0;32mif\u001b[0m \u001b[0mtimeout\u001b[0m \u001b[0;34m==\u001b[0m \u001b[0;36m0.0\u001b[0m \u001b[0;32mand\u001b[0m \u001b[0mblock\u001b[0m\u001b[0;34m:\u001b[0m\u001b[0;34m\u001b[0m\u001b[0m\n\u001b[1;32m    982\u001b[0m                 \u001b[0mself\u001b[0m\u001b[0;34m.\u001b[0m\u001b[0msettimeout\u001b[0m\u001b[0;34m(\u001b[0m\u001b[0;32mNone\u001b[0m\u001b[0;34m)\u001b[0m\u001b[0;34m\u001b[0m\u001b[0m\n\u001b[0;32m--> 983\u001b[0;31m             \u001b[0mself\u001b[0m\u001b[0;34m.\u001b[0m\u001b[0m_sslobj\u001b[0m\u001b[0;34m.\u001b[0m\u001b[0mdo_handshake\u001b[0m\u001b[0;34m(\u001b[0m\u001b[0;34m)\u001b[0m\u001b[0;34m\u001b[0m\u001b[0m\n\u001b[0m\u001b[1;32m    984\u001b[0m         \u001b[0;32mfinally\u001b[0m\u001b[0;34m:\u001b[0m\u001b[0;34m\u001b[0m\u001b[0m\n\u001b[1;32m    985\u001b[0m             \u001b[0mself\u001b[0m\u001b[0;34m.\u001b[0m\u001b[0msettimeout\u001b[0m\u001b[0;34m(\u001b[0m\u001b[0mtimeout\u001b[0m\u001b[0;34m)\u001b[0m\u001b[0;34m\u001b[0m\u001b[0m\n",
      "\u001b[0;32m/Library/Frameworks/Python.framework/Versions/3.5/lib/python3.5/ssl.py\u001b[0m in \u001b[0;36mdo_handshake\u001b[0;34m(self)\u001b[0m\n\u001b[1;32m    626\u001b[0m     \u001b[0;32mdef\u001b[0m \u001b[0mdo_handshake\u001b[0m\u001b[0;34m(\u001b[0m\u001b[0mself\u001b[0m\u001b[0;34m)\u001b[0m\u001b[0;34m:\u001b[0m\u001b[0;34m\u001b[0m\u001b[0m\n\u001b[1;32m    627\u001b[0m         \u001b[0;34m\"\"\"Start the SSL/TLS handshake.\"\"\"\u001b[0m\u001b[0;34m\u001b[0m\u001b[0m\n\u001b[0;32m--> 628\u001b[0;31m         \u001b[0mself\u001b[0m\u001b[0;34m.\u001b[0m\u001b[0m_sslobj\u001b[0m\u001b[0;34m.\u001b[0m\u001b[0mdo_handshake\u001b[0m\u001b[0;34m(\u001b[0m\u001b[0;34m)\u001b[0m\u001b[0;34m\u001b[0m\u001b[0m\n\u001b[0m\u001b[1;32m    629\u001b[0m         \u001b[0;32mif\u001b[0m \u001b[0mself\u001b[0m\u001b[0;34m.\u001b[0m\u001b[0mcontext\u001b[0m\u001b[0;34m.\u001b[0m\u001b[0mcheck_hostname\u001b[0m\u001b[0;34m:\u001b[0m\u001b[0;34m\u001b[0m\u001b[0m\n\u001b[1;32m    630\u001b[0m             \u001b[0;32mif\u001b[0m \u001b[0;32mnot\u001b[0m \u001b[0mself\u001b[0m\u001b[0;34m.\u001b[0m\u001b[0mserver_hostname\u001b[0m\u001b[0;34m:\u001b[0m\u001b[0;34m\u001b[0m\u001b[0m\n",
      "\u001b[0;31mKeyboardInterrupt\u001b[0m: "
     ]
    }
   ],
   "source": [
    "import os,http, http.client, urllib.request, urllib.parse, urllib.error, base64, json, numpy\n",
    "\n",
    "headers = {\n",
    "   'Content-type': 'application/json',\n",
    "}\n",
    "\n",
    "params = urllib.parse.urlencode({\n",
    "   # Specify your subscription key\n",
    "   'subscription-key': '2ed7c5847ac640f6b0a404c72d0b96f2',\n",
    "   # Specify values for optional parameters, as needed\n",
    "   'analyzesFaceLandmarks': 'false',\n",
    "   'analyzesAge': 'true',\n",
    "   'analyzesGender': 'true',\n",
    "   'analyzesHeadPose': 'true',\n",
    "})\n",
    "\n",
    "aa = numpy.arange(1, 221501, 250)\n",
    "url_p = {}\n",
    "for i in aa:\n",
    "    body =  \"{\\'URL\\': \\'http://www.columbia.edu/~xig2000/photos_deb/frame_\" \n",
    "    body = body + str('000000'[0:(6-len(str(i)))]) +  str(i) + '.jpg\\'}'\n",
    "    #body = '{\\'URL\\': \\'http://www.columbia.edu/~xig2000/HW1VIS/photos/HilBer.jpg\\'}'\n",
    "\n",
    "\n",
    "    try:\n",
    "       conn = http.client.HTTPSConnection('api.projectoxford.ai')\n",
    "       conn.request(\"POST\", \"/face/v0/detections?%s\" % params, body, headers)\n",
    "       print(\"send request\")\n",
    "       response = conn.getresponse()\n",
    "       data = response.read()\n",
    "       print(type(data))\n",
    "       #data.jason = json.loads(data)\n",
    "       print(data)\n",
    "       conn.close()\n",
    "    except Exception as e:\n",
    "       print(\"[Errno {0}] {1}\".format(e.errno, e.strerror))"
   ]
  },
  {
   "cell_type": "code",
   "execution_count": 78,
   "metadata": {
    "collapsed": false
   },
   "outputs": [
    {
     "name": "stdout",
     "output_type": "stream",
     "text": [
      "b'[{\"faceRectangle\":{\"height\":90,\"left\":242,\"top\":141,\"width\":90},\"scores\":{\"anger\":0.0016967227,\"contempt\":0.00283559086,\"disgust\":0.0007044759,\"fear\":2.83562567E-05,\"happiness\":0.03509238,\"neutral\":0.9589854,\"sadness\":0.000437217182,\"surprise\":0.000219841575}},{\"faceRectangle\":{\"height\":86,\"left\":834,\"top\":222,\"width\":86},\"scores\":{\"anger\":0.0002007115,\"contempt\":0.0133008556,\"disgust\":0.00394027261,\"fear\":0.030041106,\"happiness\":0.378751665,\"neutral\":0.20504716,\"sadness\":0.01701525,\"surprise\":0.351702958}}]'\n"
     ]
    }
   ],
   "source": [
    "########### Python 3.2 #############\n",
    "import http.client, urllib.request, urllib.parse, urllib.error, base64\n",
    "\n",
    "body = '{\\'URL\\': \\'http://www.columbia.edu/~xig2000/HW1VIS/photos/HilBer.jpg\\'}'\n",
    "\n",
    "headers = {\n",
    "    # Request headers\n",
    "    'Content-Type': 'application/json',\n",
    "    'Ocp-Apim-Subscription-Key': '32c88b2d68ac453385a72161673931e4',\n",
    "}\n",
    "\n",
    "params = urllib.parse.urlencode({\n",
    "    # Request parameters\n",
    "   # 'faceRectangles': '{string}',\n",
    "})\n",
    "\n",
    "try:\n",
    "    conn = http.client.HTTPSConnection('api.projectoxford.ai')\n",
    "    conn.request(\"POST\", \"/emotion/v1.0/recognize?%s\" % params, body, headers)\n",
    "    response = conn.getresponse()\n",
    "    data = response.read()\n",
    "    print(data)\n",
    "    conn.close()\n",
    "except Exception as e:\n",
    "    print(\"[Errno {0}] {1}\".format(e.errno, e.strerror))\n",
    "\n",
    "####################################\n"
   ]
  },
  {
   "cell_type": "code",
   "execution_count": 16,
   "metadata": {
    "collapsed": false
   },
   "outputs": [
    {
     "name": "stdout",
     "output_type": "stream",
     "text": [
      "{'URL': 'http://www.columbia.edu/~xig2000/HW1VIS/photos/HilBer.jpg'}010101\n"
     ]
    }
   ],
   "source": [
    "print(body + '010101')\n"
   ]
  },
  {
   "cell_type": "code",
   "execution_count": 68,
   "metadata": {
    "collapsed": false
   },
   "outputs": [],
   "source": [
    "import numpy\n",
    "\n",
    "\n"
   ]
  },
  {
   "cell_type": "markdown",
   "metadata": {},
   "source": [
    "1:3"
   ]
  },
  {
   "cell_type": "code",
   "execution_count": 69,
   "metadata": {
    "collapsed": false
   },
   "outputs": [
    {
     "data": {
      "text/plain": [
       "\"{'URL': 'http://www.columbia.edu/~xig2000/HW1VIS/photos_deb/frame_000251.jpg\""
      ]
     },
     "execution_count": 69,
     "metadata": {},
     "output_type": "execute_result"
    }
   ],
   "source": [
    "url_p[251]"
   ]
  },
  {
   "cell_type": "code",
   "execution_count": 73,
   "metadata": {
    "collapsed": false
   },
   "outputs": [
    {
     "data": {
      "text/plain": [
       "\"{'URL': 'http://www.columbia.edu/~xig2000/HW1VIS/photos_deb/frame_000251.jpg'}\""
      ]
     },
     "execution_count": 73,
     "metadata": {},
     "output_type": "execute_result"
    }
   ],
   "source": [
    "body\n"
   ]
  },
  {
   "cell_type": "code",
   "execution_count": 58,
   "metadata": {
    "collapsed": false
   },
   "outputs": [
    {
     "data": {
      "text/plain": [
       "221251"
      ]
     },
     "execution_count": 58,
     "metadata": {},
     "output_type": "execute_result"
    }
   ],
   "source": [
    "i"
   ]
  },
  {
   "cell_type": "code",
   "execution_count": null,
   "metadata": {
    "collapsed": true
   },
   "outputs": [],
   "source": []
  }
 ],
 "metadata": {
  "kernelspec": {
   "display_name": "Python 3",
   "language": "python",
   "name": "python3"
  },
  "language_info": {
   "codemirror_mode": {
    "name": "ipython",
    "version": 3
   },
   "file_extension": ".py",
   "mimetype": "text/x-python",
   "name": "python",
   "nbconvert_exporter": "python",
   "pygments_lexer": "ipython3",
   "version": "3.5.0"
  }
 },
 "nbformat": 4,
 "nbformat_minor": 0
}
