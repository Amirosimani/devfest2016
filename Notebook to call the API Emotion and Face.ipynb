{
 "cells": [
  {
   "cell_type": "code",
   "execution_count": 21,
   "metadata": {
    "collapsed": false
   },
   "outputs": [
    {
     "name": "stdout",
     "output_type": "stream",
     "text": [
      "Obtaining response no. 2\n",
      "Obtaining response no. 3\n",
      "Obtaining response no. 4\n",
      "Obtaining response no. 5\n",
      "Obtaining response no. 6\n",
      "Obtaining response no. 7\n",
      "Obtaining response no. 8\n",
      "Obtaining response no. 9\n",
      "Obtaining response no. 10\n",
      "Obtaining response no. 11\n",
      "Obtaining response no. 12\n",
      "Obtaining response no. 13\n",
      "Obtaining response no. 14\n",
      "Obtaining response no. 15\n",
      "Obtaining response no. 16\n",
      "Obtaining response no. 17\n",
      "Obtaining response no. 18\n",
      "Obtaining response no. 19\n",
      "Obtaining response no. 20\n",
      "{'_id': '000251.jpg1', 'data': {'faceRectangle': {'top': 52, 'width': 178, 'left': 248, 'height': 178}, 'faceId': '4d86c4cf-eca2-495a-8ebf-b59f8ece6133', 'attributes': {'age': 66, 'gender': 'male', 'headPose': {'yaw': 48.0, 'pitch': 0.0, 'roll': 6.8}}}}\n",
      "{'_id': '000751.jpg1', 'data': {'faceRectangle': {'top': 69, 'width': 145, 'left': 347, 'height': 145}, 'faceId': '55d06eb4-89aa-4956-b889-11b214ba1dcb', 'attributes': {'age': 74, 'gender': 'male', 'headPose': {'yaw': -31.8, 'pitch': 0.0, 'roll': -5.4}}}}\n",
      "{'_id': '003751.jpg1', 'data': {'faceRectangle': {'top': 254, 'width': 73, 'left': 6, 'height': 73}, 'faceId': '86023f49-db0c-4509-9363-2cafb8c7288e', 'attributes': {'age': 72, 'gender': 'male', 'headPose': {'yaw': 8.8, 'pitch': 0.0, 'roll': -7.7}}}}\n",
      "{'_id': '003751.jpg3', 'data': {'faceRectangle': {'top': 184, 'width': 52, 'left': 102, 'height': 52}, 'faceId': 'b5a41791-6bc0-4676-bf2c-3f7edaa99ac6', 'attributes': {'age': 56, 'gender': 'male', 'headPose': {'yaw': 18.6, 'pitch': 0.0, 'roll': -1.8}}}}\n",
      "{'_id': '000501.jpg1', 'data': {'faceRectangle': {'top': 80, 'width': 124, 'left': 354, 'height': 124}, 'faceId': '6d44add4-9520-420f-918e-3da7cee9be95', 'attributes': {'age': 56, 'gender': 'female', 'headPose': {'yaw': -11.6, 'pitch': 0.0, 'roll': -0.2}}}}\n"
     ]
    }
   ],
   "source": [
    "from pymongo import MongoClient\n",
    "import os,http, http.client, urllib.request, urllib.parse, urllib.error, base64, json, numpy, time\n",
    "\n",
    "client = MongoClient('localhost', 27017)\n",
    "db = client.debate_database\n",
    "image_collection = db.image_collection\n",
    "\n",
    "headers = {\n",
    "   'Content-type': 'application/json',\n",
    "}\n",
    "\n",
    "params = urllib.parse.urlencode({\n",
    "   # Specify your subscription key\n",
    "   'subscription-key': '2ed7c5847ac640f6b0a404c72d0b96f2',\n",
    "   # Specify values for optional parameters, as needed\n",
    "   'analyzesFaceLandmarks': 'false',\n",
    "   'analyzesAge': 'true',\n",
    "   'analyzesGender': 'true',\n",
    "   'analyzesHeadPose': 'true',\n",
    "})\n",
    "\n",
    "aa = numpy.arange(1, 221501, 250)\n",
    "url_p = {}\n",
    "index = 1\n",
    "for i in aa:\n",
    "    if index % 20 == 0:\n",
    "        break;\n",
    "        time.sleep(60)\n",
    "    index = index + 1\n",
    "    filename = str('000000'[0:(6-len(str(i)))]) +  str(i) + '.jpg'\n",
    "    body =  \"{\\'URL\\': \\'http://www.columbia.edu/~xig2000/photos_deb/frame_\" \n",
    "    body = body + filename + '\\'}'\n",
    "    #body = '{\\'URL\\': \\'http://www.columbia.edu/~xig2000/HW1VIS/photos/HilBer.jpg\\'}'\n",
    "\n",
    "\n",
    "    try:\n",
    "       conn = http.client.HTTPSConnection('api.projectoxford.ai')\n",
    "       conn.request(\"POST\", \"/face/v0/detections?%s\" % params, body, headers)\n",
    "       print(\"Obtaining response no. {0}\".format(str(index)))\n",
    "       response = conn.getresponse()\n",
    "       data = json.loads(response.read().decode('utf-8'))\n",
    "       imageindex = 0\n",
    "       for j in data:\n",
    "           if (j != \"message\") & (j != \"statusCode\"):\n",
    "               imageindex = imageindex + 1 \n",
    "               imagerecord = \"{\\\"_id\\\" : \\\"\" + filename + str(imageindex) + \"\\\", \\\"data\\\" : \" + json.dumps(j) + \"}\"\n",
    "               imagejson = json.loads(imagerecord) \n",
    "               post_id = image_collection.insert(imagejson)\n",
    "       conn.close()\n",
    "    except Exception as e:\n",
    "       print(\"[Errno {0}] {1}\".format(e.errno, e.strerror))\n",
    "    \n",
    "\n",
    "\n",
    "Bernies = image_collection.find({\"$and\": [{\"data.attributes.gender\" : \"male\"},{\"data.attributes.age\" : {\"$gte\" : 50}}]})\n",
    "Hillaries = image_collection.find({\"$and\": [{\"data.attributes.gender\" : \"female\"},{\"data.attributes.age\" : {\"$gte\" : 50}}]})\n",
    "for Bernie in Bernies: \n",
    "    print(Bernie)\n",
    "for Hillary in Hillaries:     \n",
    "    print(Hillary)\n",
    "\n"
   ]
  },
  {
   "cell_type": "code",
   "execution_count": 13,
   "metadata": {
    "collapsed": false
   },
   "outputs": [
    {
     "name": "stdout",
     "output_type": "stream",
     "text": [
      "b'[{\"faceRectangle\":{\"height\":90,\"left\":242,\"top\":141,\"width\":90},\"scores\":{\"anger\":0.0016967227,\"contempt\":0.00283559086,\"disgust\":0.0007044759,\"fear\":2.83562567E-05,\"happiness\":0.03509238,\"neutral\":0.9589854,\"sadness\":0.000437217182,\"surprise\":0.000219841575}},{\"faceRectangle\":{\"height\":86,\"left\":834,\"top\":222,\"width\":86},\"scores\":{\"anger\":0.0002007115,\"contempt\":0.0133008556,\"disgust\":0.00394027261,\"fear\":0.030041106,\"happiness\":0.378751665,\"neutral\":0.20504716,\"sadness\":0.01701525,\"surprise\":0.351702958}}]'\n"
     ]
    }
   ],
   "source": [
    "########### Python 3.2 #############\n",
    "import http.client, urllib.request, urllib.parse, urllib.error, base64\n",
    "\n",
    "body = '{\\'URL\\': \\'http://www.columbia.edu/~xig2000/HW1VIS/photos/HilBer.jpg\\'}'\n",
    "\n",
    "headers = {\n",
    "    # Request headers\n",
    "    'Content-Type': 'application/json',\n",
    "    'Ocp-Apim-Subscription-Key': '32c88b2d68ac453385a72161673931e4',\n",
    "}\n",
    "\n",
    "params = urllib.parse.urlencode({\n",
    "    # Request parameters\n",
    "   # 'faceRectangles': '{string}',\n",
    "})\n",
    "\n",
    "try:\n",
    "    conn = http.client.HTTPSConnection('api.projectoxford.ai')\n",
    "    conn.request(\"POST\", \"/emotion/v1.0/recognize?%s\" % params, body, headers)\n",
    "    response = conn.getresponse()\n",
    "    data = response.read()\n",
    "    print(data)\n",
    "    conn.close()\n",
    "except Exception as e:\n",
    "    print(\"[Errno {0}] {1}\".format(e.errno, e.strerror))\n",
    "\n",
    "####################################\n"
   ]
  },
  {
   "cell_type": "code",
   "execution_count": 2,
   "metadata": {
    "collapsed": false
   },
   "outputs": [
    {
     "name": "stdout",
     "output_type": "stream",
     "text": [
      "{'URL': 'http://www.columbia.edu/~xig2000/HW1VIS/photos/HilBer.jpg'}010101\n"
     ]
    }
   ],
   "source": [
    "print(body + '010101')\n"
   ]
  },
  {
   "cell_type": "code",
   "execution_count": 3,
   "metadata": {
    "collapsed": false
   },
   "outputs": [],
   "source": [
    "import numpy\n",
    "\n",
    "\n"
   ]
  },
  {
   "cell_type": "markdown",
   "metadata": {},
   "source": [
    "1:3"
   ]
  },
  {
   "cell_type": "code",
   "execution_count": 4,
   "metadata": {
    "collapsed": false
   },
   "outputs": [
    {
     "ename": "NameError",
     "evalue": "name 'url_p' is not defined",
     "output_type": "error",
     "traceback": [
      "\u001b[0;31m---------------------------------------------------------------------------\u001b[0m",
      "\u001b[0;31mNameError\u001b[0m                                 Traceback (most recent call last)",
      "\u001b[0;32m<ipython-input-4-d6fc2a9614c4>\u001b[0m in \u001b[0;36m<module>\u001b[0;34m()\u001b[0m\n\u001b[0;32m----> 1\u001b[0;31m \u001b[0murl_p\u001b[0m\u001b[0;34m[\u001b[0m\u001b[0;36m251\u001b[0m\u001b[0;34m]\u001b[0m\u001b[0;34m\u001b[0m\u001b[0m\n\u001b[0m",
      "\u001b[0;31mNameError\u001b[0m: name 'url_p' is not defined"
     ]
    }
   ],
   "source": [
    "url_p[251]"
   ]
  },
  {
   "cell_type": "code",
   "execution_count": 5,
   "metadata": {
    "collapsed": false
   },
   "outputs": [
    {
     "data": {
      "text/plain": [
       "\"{'URL': 'http://www.columbia.edu/~xig2000/HW1VIS/photos/HilBer.jpg'}\""
      ]
     },
     "execution_count": 5,
     "metadata": {},
     "output_type": "execute_result"
    }
   ],
   "source": [
    "body\n"
   ]
  },
  {
   "cell_type": "code",
   "execution_count": 6,
   "metadata": {
    "collapsed": false
   },
   "outputs": [
    {
     "ename": "NameError",
     "evalue": "name 'i' is not defined",
     "output_type": "error",
     "traceback": [
      "\u001b[0;31m---------------------------------------------------------------------------\u001b[0m",
      "\u001b[0;31mNameError\u001b[0m                                 Traceback (most recent call last)",
      "\u001b[0;32m<ipython-input-6-372e25f23b5a>\u001b[0m in \u001b[0;36m<module>\u001b[0;34m()\u001b[0m\n\u001b[0;32m----> 1\u001b[0;31m \u001b[0mi\u001b[0m\u001b[0;34m\u001b[0m\u001b[0m\n\u001b[0m",
      "\u001b[0;31mNameError\u001b[0m: name 'i' is not defined"
     ]
    }
   ],
   "source": [
    "i"
   ]
  },
  {
   "cell_type": "code",
   "execution_count": null,
   "metadata": {
    "collapsed": true
   },
   "outputs": [],
   "source": []
  },
  {
   "cell_type": "code",
   "execution_count": null,
   "metadata": {
    "collapsed": true
   },
   "outputs": [],
   "source": []
  },
  {
   "cell_type": "code",
   "execution_count": null,
   "metadata": {
    "collapsed": true
   },
   "outputs": [],
   "source": []
  },
  {
   "cell_type": "code",
   "execution_count": null,
   "metadata": {
    "collapsed": true
   },
   "outputs": [],
   "source": []
  },
  {
   "cell_type": "code",
   "execution_count": null,
   "metadata": {
    "collapsed": true
   },
   "outputs": [],
   "source": []
  },
  {
   "cell_type": "code",
   "execution_count": null,
   "metadata": {
    "collapsed": true
   },
   "outputs": [],
   "source": []
  }
 ],
 "metadata": {
  "kernelspec": {
   "display_name": "Python 3",
   "language": "python",
   "name": "python3"
  },
  "language_info": {
   "codemirror_mode": {
    "name": "ipython",
    "version": 3
   },
   "file_extension": ".py",
   "mimetype": "text/x-python",
   "name": "python",
   "nbconvert_exporter": "python",
   "pygments_lexer": "ipython3",
   "version": "3.3.5"
  }
 },
 "nbformat": 4,
 "nbformat_minor": 0
}
