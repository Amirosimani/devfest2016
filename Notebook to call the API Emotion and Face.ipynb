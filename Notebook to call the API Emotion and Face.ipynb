{
 "cells": [
  {
   "cell_type": "code",
   "execution_count": 15,
   "metadata": {
    "collapsed": false
   },
   "outputs": [
    {
     "name": "stdout",
     "output_type": "stream",
     "text": [
      "send request\n",
      "000001.jpg\n",
      "[]\n",
      "{\"id\" : \"000001.jpg\", \"data\" : []}\n",
      "send request\n",
      "000251.jpg\n",
      "[{\"faceId\":\"4d86c4cf-eca2-495a-8ebf-b59f8ece6133\",\"faceRectangle\":{\"top\":52,\"left\":248,\"width\":178,\"height\":178},\"attributes\":{\"headPose\":{\"pitch\":0.0,\"roll\":6.8,\"yaw\":48.0},\"gender\":\"male\",\"age\":66}}]\n",
      "{\"id\" : \"000251.jpg\", \"data\" : [{\"faceId\":\"4d86c4cf-eca2-495a-8ebf-b59f8ece6133\",\"faceRectangle\":{\"top\":52,\"left\":248,\"width\":178,\"height\":178},\"attributes\":{\"headPose\":{\"pitch\":0.0,\"roll\":6.8,\"yaw\":48.0},\"gender\":\"male\",\"age\":66}}]}\n",
      "send request\n",
      "000501.jpg\n",
      "[{\"faceId\":\"6d44add4-9520-420f-918e-3da7cee9be95\",\"faceRectangle\":{\"top\":80,\"left\":354,\"width\":124,\"height\":124},\"attributes\":{\"headPose\":{\"pitch\":0.0,\"roll\":-0.2,\"yaw\":-11.6},\"gender\":\"female\",\"age\":56}}]\n",
      "{\"id\" : \"000501.jpg\", \"data\" : [{\"faceId\":\"6d44add4-9520-420f-918e-3da7cee9be95\",\"faceRectangle\":{\"top\":80,\"left\":354,\"width\":124,\"height\":124},\"attributes\":{\"headPose\":{\"pitch\":0.0,\"roll\":-0.2,\"yaw\":-11.6},\"gender\":\"female\",\"age\":56}}]}\n",
      "send request\n",
      "000751.jpg\n",
      "[{\"faceId\":\"55d06eb4-89aa-4956-b889-11b214ba1dcb\",\"faceRectangle\":{\"top\":69,\"left\":347,\"width\":145,\"height\":145},\"attributes\":{\"headPose\":{\"pitch\":0.0,\"roll\":-5.4,\"yaw\":-31.8},\"gender\":\"male\",\"age\":74}}]\n",
      "{\"id\" : \"000751.jpg\", \"data\" : [{\"faceId\":\"55d06eb4-89aa-4956-b889-11b214ba1dcb\",\"faceRectangle\":{\"top\":69,\"left\":347,\"width\":145,\"height\":145},\"attributes\":{\"headPose\":{\"pitch\":0.0,\"roll\":-5.4,\"yaw\":-31.8},\"gender\":\"male\",\"age\":74}}]}\n",
      "send request\n",
      "001001.jpg\n",
      "[]\n",
      "{\"id\" : \"001001.jpg\", \"data\" : []}\n",
      "send request\n",
      "001251.jpg\n",
      "[]\n",
      "{\"id\" : \"001251.jpg\", \"data\" : []}\n",
      "send request\n",
      "001501.jpg\n",
      "[{\"faceId\":\"1c0b2034-6755-438d-9a36-a54563bc231d\",\"faceRectangle\":{\"top\":106,\"left\":374,\"width\":63,\"height\":63},\"attributes\":{\"headPose\":{\"pitch\":0.0,\"roll\":12.7,\"yaw\":-29.8},\"gender\":\"female\",\"age\":32}},{\"faceId\":\"313d6545-1e3f-4489-b612-9e661d0d59f4\",\"faceRectangle\":{\"top\":123,\"left\":262,\"width\":56,\"height\":56},\"attributes\":{\"headPose\":{\"pitch\":0.0,\"roll\":9.5,\"yaw\":-24.1},\"gender\":\"female\",\"age\":30}},{\"faceId\":\"825f4b70-ef4a-4f60-ba59-bef382d1adf4\",\"faceRectangle\":{\"top\":151,\"left\":48,\"width\":54,\"height\":54},\"attributes\":{\"headPose\":{\"pitch\":0.0,\"roll\":-15.0,\"yaw\":27.1},\"gender\":\"female\",\"age\":5}},{\"faceId\":\"23de205b-7a34-47b7-a420-a29d7c2da2c0\",\"faceRectangle\":{\"top\":149,\"left\":155,\"width\":48,\"height\":48},\"attributes\":{\"headPose\":{\"pitch\":0.0,\"roll\":5.4,\"yaw\":23.9},\"gender\":\"male\",\"age\":26}},{\"faceId\":\"5937f144-187e-47bf-838c-94ee077a3d5a\",\"faceRectangle\":{\"top\":61,\"left\":233,\"width\":47,\"height\":47},\"attributes\":{\"headPose\":{\"pitch\":0.0,\"roll\":5.0,\"yaw\":-31.7},\"gender\":\"male\",\"age\":35}},{\"faceId\":\"d5be80d5-217a-4a35-b94b-83fe50550439\",\"faceRectangle\":{\"top\":10,\"left\":157,\"width\":45,\"height\":45},\"attributes\":{\"headPose\":{\"pitch\":0.0,\"roll\":-8.3,\"yaw\":-8.9},\"gender\":\"male\",\"age\":31}}]\n",
      "{\"id\" : \"001501.jpg\", \"data\" : [{\"faceId\":\"1c0b2034-6755-438d-9a36-a54563bc231d\",\"faceRectangle\":{\"top\":106,\"left\":374,\"width\":63,\"height\":63},\"attributes\":{\"headPose\":{\"pitch\":0.0,\"roll\":12.7,\"yaw\":-29.8},\"gender\":\"female\",\"age\":32}},{\"faceId\":\"313d6545-1e3f-4489-b612-9e661d0d59f4\",\"faceRectangle\":{\"top\":123,\"left\":262,\"width\":56,\"height\":56},\"attributes\":{\"headPose\":{\"pitch\":0.0,\"roll\":9.5,\"yaw\":-24.1},\"gender\":\"female\",\"age\":30}},{\"faceId\":\"825f4b70-ef4a-4f60-ba59-bef382d1adf4\",\"faceRectangle\":{\"top\":151,\"left\":48,\"width\":54,\"height\":54},\"attributes\":{\"headPose\":{\"pitch\":0.0,\"roll\":-15.0,\"yaw\":27.1},\"gender\":\"female\",\"age\":5}},{\"faceId\":\"23de205b-7a34-47b7-a420-a29d7c2da2c0\",\"faceRectangle\":{\"top\":149,\"left\":155,\"width\":48,\"height\":48},\"attributes\":{\"headPose\":{\"pitch\":0.0,\"roll\":5.4,\"yaw\":23.9},\"gender\":\"male\",\"age\":26}},{\"faceId\":\"5937f144-187e-47bf-838c-94ee077a3d5a\",\"faceRectangle\":{\"top\":61,\"left\":233,\"width\":47,\"height\":47},\"attributes\":{\"headPose\":{\"pitch\":0.0,\"roll\":5.0,\"yaw\":-31.7},\"gender\":\"male\",\"age\":35}},{\"faceId\":\"d5be80d5-217a-4a35-b94b-83fe50550439\",\"faceRectangle\":{\"top\":10,\"left\":157,\"width\":45,\"height\":45},\"attributes\":{\"headPose\":{\"pitch\":0.0,\"roll\":-8.3,\"yaw\":-8.9},\"gender\":\"male\",\"age\":31}}]}\n",
      "send request\n",
      "001751.jpg\n",
      "[]\n",
      "{\"id\" : \"001751.jpg\", \"data\" : []}\n",
      "send request\n",
      "002001.jpg\n",
      "[{\"faceId\":\"239f5692-de84-4afd-89aa-57a02ba14ed1\",\"faceRectangle\":{\"top\":71,\"left\":416,\"width\":64,\"height\":64},\"attributes\":{\"headPose\":{\"pitch\":0.0,\"roll\":3.2,\"yaw\":-8.1},\"gender\":\"male\",\"age\":37}}]\n",
      "{\"id\" : \"002001.jpg\", \"data\" : [{\"faceId\":\"239f5692-de84-4afd-89aa-57a02ba14ed1\",\"faceRectangle\":{\"top\":71,\"left\":416,\"width\":64,\"height\":64},\"attributes\":{\"headPose\":{\"pitch\":0.0,\"roll\":3.2,\"yaw\":-8.1},\"gender\":\"male\",\"age\":37}}]}\n",
      "send request\n",
      "002251.jpg\n",
      "[{\"faceId\":\"c898cd4e-2de6-4188-86fd-a518ef124704\",\"faceRectangle\":{\"top\":65,\"left\":402,\"width\":59,\"height\":59},\"attributes\":{\"headPose\":{\"pitch\":0.0,\"roll\":5.1,\"yaw\":-21.4},\"gender\":\"male\",\"age\":35}},{\"faceId\":\"23b6f82e-a9f4-406c-9f92-0a81afdef1a6\",\"faceRectangle\":{\"top\":55,\"left\":146,\"width\":53,\"height\":53},\"attributes\":{\"headPose\":{\"pitch\":0.0,\"roll\":-3.5,\"yaw\":11.2},\"gender\":\"female\",\"age\":44}}]\n",
      "{\"id\" : \"002251.jpg\", \"data\" : [{\"faceId\":\"c898cd4e-2de6-4188-86fd-a518ef124704\",\"faceRectangle\":{\"top\":65,\"left\":402,\"width\":59,\"height\":59},\"attributes\":{\"headPose\":{\"pitch\":0.0,\"roll\":5.1,\"yaw\":-21.4},\"gender\":\"male\",\"age\":35}},{\"faceId\":\"23b6f82e-a9f4-406c-9f92-0a81afdef1a6\",\"faceRectangle\":{\"top\":55,\"left\":146,\"width\":53,\"height\":53},\"attributes\":{\"headPose\":{\"pitch\":0.0,\"roll\":-3.5,\"yaw\":11.2},\"gender\":\"female\",\"age\":44}}]}\n",
      "send request\n",
      "002501.jpg\n",
      "[{\"faceId\":\"f5fc9e58-6d78-47ec-8c3b-cbcb8767e578\",\"faceRectangle\":{\"top\":67,\"left\":389,\"width\":57,\"height\":57},\"attributes\":{\"headPose\":{\"pitch\":0.0,\"roll\":6.4,\"yaw\":-36.3},\"gender\":\"male\",\"age\":29}},{\"faceId\":\"0033aaa8-f5c9-45eb-9ee0-633437621b46\",\"faceRectangle\":{\"top\":64,\"left\":114,\"width\":55,\"height\":55},\"attributes\":{\"headPose\":{\"pitch\":0.0,\"roll\":-7.1,\"yaw\":5.6},\"gender\":\"female\",\"age\":31}}]\n",
      "{\"id\" : \"002501.jpg\", \"data\" : [{\"faceId\":\"f5fc9e58-6d78-47ec-8c3b-cbcb8767e578\",\"faceRectangle\":{\"top\":67,\"left\":389,\"width\":57,\"height\":57},\"attributes\":{\"headPose\":{\"pitch\":0.0,\"roll\":6.4,\"yaw\":-36.3},\"gender\":\"male\",\"age\":29}},{\"faceId\":\"0033aaa8-f5c9-45eb-9ee0-633437621b46\",\"faceRectangle\":{\"top\":64,\"left\":114,\"width\":55,\"height\":55},\"attributes\":{\"headPose\":{\"pitch\":0.0,\"roll\":-7.1,\"yaw\":5.6},\"gender\":\"female\",\"age\":31}}]}\n",
      "send request\n",
      "002751.jpg\n",
      "[{\"faceId\":\"b53162c2-9b63-444c-907a-efcc44917423\",\"faceRectangle\":{\"top\":77,\"left\":366,\"width\":67,\"height\":67},\"attributes\":{\"headPose\":{\"pitch\":0.0,\"roll\":-3.3,\"yaw\":-29.6},\"gender\":\"male\",\"age\":35}},{\"faceId\":\"b675d63a-9297-4ad6-a56c-7e741f4079d5\",\"faceRectangle\":{\"top\":69,\"left\":145,\"width\":58,\"height\":58},\"attributes\":{\"headPose\":{\"pitch\":0.0,\"roll\":-1.4,\"yaw\":16.2},\"gender\":\"female\",\"age\":30}}]\n",
      "{\"id\" : \"002751.jpg\", \"data\" : [{\"faceId\":\"b53162c2-9b63-444c-907a-efcc44917423\",\"faceRectangle\":{\"top\":77,\"left\":366,\"width\":67,\"height\":67},\"attributes\":{\"headPose\":{\"pitch\":0.0,\"roll\":-3.3,\"yaw\":-29.6},\"gender\":\"male\",\"age\":35}},{\"faceId\":\"b675d63a-9297-4ad6-a56c-7e741f4079d5\",\"faceRectangle\":{\"top\":69,\"left\":145,\"width\":58,\"height\":58},\"attributes\":{\"headPose\":{\"pitch\":0.0,\"roll\":-1.4,\"yaw\":16.2},\"gender\":\"female\",\"age\":30}}]}\n",
      "send request\n",
      "003001.jpg\n",
      "[{\"faceId\":\"5c695636-6579-4a0e-81b0-7a6d54539e8b\",\"faceRectangle\":{\"top\":74,\"left\":379,\"width\":69,\"height\":69},\"attributes\":{\"headPose\":{\"pitch\":0.0,\"roll\":-4.2,\"yaw\":-16.7},\"gender\":\"male\",\"age\":37}},{\"faceId\":\"067856b4-7e5e-47d5-9558-0245ab1eb9a0\",\"faceRectangle\":{\"top\":76,\"left\":145,\"width\":59,\"height\":59},\"attributes\":{\"headPose\":{\"pitch\":0.0,\"roll\":0.8,\"yaw\":17.4},\"gender\":\"female\",\"age\":31}}]\n",
      "{\"id\" : \"003001.jpg\", \"data\" : [{\"faceId\":\"5c695636-6579-4a0e-81b0-7a6d54539e8b\",\"faceRectangle\":{\"top\":74,\"left\":379,\"width\":69,\"height\":69},\"attributes\":{\"headPose\":{\"pitch\":0.0,\"roll\":-4.2,\"yaw\":-16.7},\"gender\":\"male\",\"age\":37}},{\"faceId\":\"067856b4-7e5e-47d5-9558-0245ab1eb9a0\",\"faceRectangle\":{\"top\":76,\"left\":145,\"width\":59,\"height\":59},\"attributes\":{\"headPose\":{\"pitch\":0.0,\"roll\":0.8,\"yaw\":17.4},\"gender\":\"female\",\"age\":31}}]}\n",
      "send request\n",
      "003251.jpg\n",
      "[{\"faceId\":\"ac94770b-cf6e-4948-9e1c-34b625058be3\",\"faceRectangle\":{\"top\":81,\"left\":99,\"width\":58,\"height\":58},\"attributes\":{\"headPose\":{\"pitch\":0.0,\"roll\":0.3,\"yaw\":-4.0},\"gender\":\"female\",\"age\":31}},{\"faceId\":\"79fc7f11-b0f5-4e29-aaa2-d7664c348c24\",\"faceRectangle\":{\"top\":77,\"left\":407,\"width\":56,\"height\":56},\"attributes\":{\"headPose\":{\"pitch\":0.0,\"roll\":7.0,\"yaw\":-32.5},\"gender\":\"male\",\"age\":36}}]\n",
      "{\"id\" : \"003251.jpg\", \"data\" : [{\"faceId\":\"ac94770b-cf6e-4948-9e1c-34b625058be3\",\"faceRectangle\":{\"top\":81,\"left\":99,\"width\":58,\"height\":58},\"attributes\":{\"headPose\":{\"pitch\":0.0,\"roll\":0.3,\"yaw\":-4.0},\"gender\":\"female\",\"age\":31}},{\"faceId\":\"79fc7f11-b0f5-4e29-aaa2-d7664c348c24\",\"faceRectangle\":{\"top\":77,\"left\":407,\"width\":56,\"height\":56},\"attributes\":{\"headPose\":{\"pitch\":0.0,\"roll\":7.0,\"yaw\":-32.5},\"gender\":\"male\",\"age\":36}}]}\n",
      "send request\n",
      "003501.jpg\n",
      "[{\"faceId\":\"7908b238-4600-439a-b547-55da7470091d\",\"faceRectangle\":{\"top\":64,\"left\":408,\"width\":67,\"height\":67},\"attributes\":{\"headPose\":{\"pitch\":0.0,\"roll\":-1.2,\"yaw\":-15.6},\"gender\":\"male\",\"age\":36}},{\"faceId\":\"27d9c2e0-d143-478d-93ad-0fb8a5cbba27\",\"faceRectangle\":{\"top\":71,\"left\":98,\"width\":61,\"height\":61},\"attributes\":{\"headPose\":{\"pitch\":0.0,\"roll\":5.3,\"yaw\":-10.8},\"gender\":\"female\",\"age\":43}}]\n",
      "{\"id\" : \"003501.jpg\", \"data\" : [{\"faceId\":\"7908b238-4600-439a-b547-55da7470091d\",\"faceRectangle\":{\"top\":64,\"left\":408,\"width\":67,\"height\":67},\"attributes\":{\"headPose\":{\"pitch\":0.0,\"roll\":-1.2,\"yaw\":-15.6},\"gender\":\"male\",\"age\":36}},{\"faceId\":\"27d9c2e0-d143-478d-93ad-0fb8a5cbba27\",\"faceRectangle\":{\"top\":71,\"left\":98,\"width\":61,\"height\":61},\"attributes\":{\"headPose\":{\"pitch\":0.0,\"roll\":5.3,\"yaw\":-10.8},\"gender\":\"female\",\"age\":43}}]}\n",
      "send request\n",
      "003751.jpg\n",
      "[{\"faceId\":\"86023f49-db0c-4509-9363-2cafb8c7288e\",\"faceRectangle\":{\"top\":254,\"left\":6,\"width\":73,\"height\":73},\"attributes\":{\"headPose\":{\"pitch\":0.0,\"roll\":-7.7,\"yaw\":8.8},\"gender\":\"male\",\"age\":72}},{\"faceId\":\"c333e7cb-7ea3-41ac-881c-a948a070bb88\",\"faceRectangle\":{\"top\":235,\"left\":207,\"width\":55,\"height\":55},\"attributes\":{\"headPose\":{\"pitch\":0.0,\"roll\":-12.5,\"yaw\":31.5},\"gender\":\"male\",\"age\":20}},{\"faceId\":\"b5a41791-6bc0-4676-bf2c-3f7edaa99ac6\",\"faceRectangle\":{\"top\":184,\"left\":102,\"width\":52,\"height\":52},\"attributes\":{\"headPose\":{\"pitch\":0.0,\"roll\":-1.8,\"yaw\":18.6},\"gender\":\"male\",\"age\":56}},{\"faceId\":\"045fdb53-b29f-4f82-9c82-5e039e7a8900\",\"faceRectangle\":{\"top\":250,\"left\":530,\"width\":50,\"height\":50},\"attributes\":{\"headPose\":{\"pitch\":0.0,\"roll\":-6.5,\"yaw\":20.6},\"gender\":\"male\",\"age\":49}},{\"faceId\":\"f67918e6-32ee-4695-bb15-e81d0ae2e67e\",\"faceRectangle\":{\"top\":47,\"left\":95,\"width\":35,\"height\":35},\"attributes\":{\"headPose\":{\"pitch\":0.0,\"roll\":-3.2,\"yaw\":22.7},\"gender\":\"male\",\"age\":42}}]\n",
      "{\"id\" : \"003751.jpg\", \"data\" : [{\"faceId\":\"86023f49-db0c-4509-9363-2cafb8c7288e\",\"faceRectangle\":{\"top\":254,\"left\":6,\"width\":73,\"height\":73},\"attributes\":{\"headPose\":{\"pitch\":0.0,\"roll\":-7.7,\"yaw\":8.8},\"gender\":\"male\",\"age\":72}},{\"faceId\":\"c333e7cb-7ea3-41ac-881c-a948a070bb88\",\"faceRectangle\":{\"top\":235,\"left\":207,\"width\":55,\"height\":55},\"attributes\":{\"headPose\":{\"pitch\":0.0,\"roll\":-12.5,\"yaw\":31.5},\"gender\":\"male\",\"age\":20}},{\"faceId\":\"b5a41791-6bc0-4676-bf2c-3f7edaa99ac6\",\"faceRectangle\":{\"top\":184,\"left\":102,\"width\":52,\"height\":52},\"attributes\":{\"headPose\":{\"pitch\":0.0,\"roll\":-1.8,\"yaw\":18.6},\"gender\":\"male\",\"age\":56}},{\"faceId\":\"045fdb53-b29f-4f82-9c82-5e039e7a8900\",\"faceRectangle\":{\"top\":250,\"left\":530,\"width\":50,\"height\":50},\"attributes\":{\"headPose\":{\"pitch\":0.0,\"roll\":-6.5,\"yaw\":20.6},\"gender\":\"male\",\"age\":49}},{\"faceId\":\"f67918e6-32ee-4695-bb15-e81d0ae2e67e\",\"faceRectangle\":{\"top\":47,\"left\":95,\"width\":35,\"height\":35},\"attributes\":{\"headPose\":{\"pitch\":0.0,\"roll\":-3.2,\"yaw\":22.7},\"gender\":\"male\",\"age\":42}}]}\n",
      "send request\n",
      "004001.jpg\n",
      "[]\n",
      "{\"id\" : \"004001.jpg\", \"data\" : []}\n",
      "send request\n",
      "004251.jpg\n",
      "[]\n",
      "{\"id\" : \"004251.jpg\", \"data\" : []}\n",
      "send request\n",
      "004501.jpg\n",
      "[{\"faceId\":\"48d9cc51-3d06-4b86-9205-383dbd51cbdb\",\"faceRectangle\":{\"top\":82,\"left\":174,\"width\":49,\"height\":49},\"attributes\":{\"headPose\":{\"pitch\":0.0,\"roll\":9.7,\"yaw\":-4.4},\"gender\":\"male\",\"age\":39}},{\"faceId\":\"e99f2fc1-d36d-4810-852a-f945cb5a1134\",\"faceRectangle\":{\"top\":105,\"left\":379,\"width\":31,\"height\":31},\"attributes\":{\"headPose\":{\"pitch\":0.0,\"roll\":19.2,\"yaw\":17.5},\"gender\":\"male\",\"age\":40}}]\n",
      "{\"id\" : \"004501.jpg\", \"data\" : [{\"faceId\":\"48d9cc51-3d06-4b86-9205-383dbd51cbdb\",\"faceRectangle\":{\"top\":82,\"left\":174,\"width\":49,\"height\":49},\"attributes\":{\"headPose\":{\"pitch\":0.0,\"roll\":9.7,\"yaw\":-4.4},\"gender\":\"male\",\"age\":39}},{\"faceId\":\"e99f2fc1-d36d-4810-852a-f945cb5a1134\",\"faceRectangle\":{\"top\":105,\"left\":379,\"width\":31,\"height\":31},\"attributes\":{\"headPose\":{\"pitch\":0.0,\"roll\":19.2,\"yaw\":17.5},\"gender\":\"male\",\"age\":40}}]}\n"
     ]
    },
    {
     "ename": "NameError",
     "evalue": "name 'time' is not defined",
     "output_type": "error",
     "traceback": [
      "\u001b[0;31m---------------------------------------------------------------------------\u001b[0m",
      "\u001b[0;31mNameError\u001b[0m                                 Traceback (most recent call last)",
      "\u001b[0;32m<ipython-input-15-4f199eda0e6c>\u001b[0m in \u001b[0;36m<module>\u001b[0;34m()\u001b[0m\n\u001b[1;32m     25\u001b[0m \u001b[0;32mfor\u001b[0m \u001b[0mi\u001b[0m \u001b[0;32min\u001b[0m \u001b[0maa\u001b[0m\u001b[0;34m:\u001b[0m\u001b[0;34m\u001b[0m\u001b[0m\n\u001b[1;32m     26\u001b[0m     \u001b[0;32mif\u001b[0m \u001b[0mindex\u001b[0m \u001b[0;34m%\u001b[0m \u001b[0;36m20\u001b[0m \u001b[0;34m==\u001b[0m \u001b[0;36m0\u001b[0m\u001b[0;34m:\u001b[0m\u001b[0;34m\u001b[0m\u001b[0m\n\u001b[0;32m---> 27\u001b[0;31m         \u001b[0mtime\u001b[0m\u001b[0;34m.\u001b[0m\u001b[0msleep\u001b[0m\u001b[0;34m(\u001b[0m\u001b[0;36m60\u001b[0m\u001b[0;34m)\u001b[0m\u001b[0;34m\u001b[0m\u001b[0m\n\u001b[0m\u001b[1;32m     28\u001b[0m     \u001b[0mindex\u001b[0m \u001b[0;34m=\u001b[0m \u001b[0mindex\u001b[0m \u001b[0;34m+\u001b[0m \u001b[0;36m1\u001b[0m\u001b[0;34m\u001b[0m\u001b[0m\n\u001b[1;32m     29\u001b[0m     \u001b[0mfilename\u001b[0m \u001b[0;34m=\u001b[0m \u001b[0mstr\u001b[0m\u001b[0;34m(\u001b[0m\u001b[0;34m'000000'\u001b[0m\u001b[0;34m[\u001b[0m\u001b[0;36m0\u001b[0m\u001b[0;34m:\u001b[0m\u001b[0;34m(\u001b[0m\u001b[0;36m6\u001b[0m\u001b[0;34m-\u001b[0m\u001b[0mlen\u001b[0m\u001b[0;34m(\u001b[0m\u001b[0mstr\u001b[0m\u001b[0;34m(\u001b[0m\u001b[0mi\u001b[0m\u001b[0;34m)\u001b[0m\u001b[0;34m)\u001b[0m\u001b[0;34m)\u001b[0m\u001b[0;34m]\u001b[0m\u001b[0;34m)\u001b[0m \u001b[0;34m+\u001b[0m  \u001b[0mstr\u001b[0m\u001b[0;34m(\u001b[0m\u001b[0mi\u001b[0m\u001b[0;34m)\u001b[0m \u001b[0;34m+\u001b[0m \u001b[0;34m'.jpg'\u001b[0m\u001b[0;34m\u001b[0m\u001b[0m\n",
      "\u001b[0;31mNameError\u001b[0m: name 'time' is not defined"
     ]
    }
   ],
   "source": [
    "from pymongo import MongoClient\n",
    "import os,http, http.client, urllib.request, urllib.parse, urllib.error, base64, json, numpy\n",
    "\n",
    "client = MongoClient('localhost', 27017)\n",
    "db = client.debate_database\n",
    "image_collection = db.image_collection\n",
    "\n",
    "headers = {\n",
    "   'Content-type': 'application/json',\n",
    "}\n",
    "\n",
    "params = urllib.parse.urlencode({\n",
    "   # Specify your subscription key\n",
    "   'subscription-key': '2ed7c5847ac640f6b0a404c72d0b96f2',\n",
    "   # Specify values for optional parameters, as needed\n",
    "   'analyzesFaceLandmarks': 'false',\n",
    "   'analyzesAge': 'true',\n",
    "   'analyzesGender': 'true',\n",
    "   'analyzesHeadPose': 'true',\n",
    "})\n",
    "\n",
    "aa = numpy.arange(1, 221501, 250)\n",
    "url_p = {}\n",
    "index = 1\n",
    "for i in aa:\n",
    "    if index % 20 == 0:\n",
    "        time.sleep(60)\n",
    "    index = index + 1\n",
    "    filename = str('000000'[0:(6-len(str(i)))]) +  str(i) + '.jpg'\n",
    "    body =  \"{\\'URL\\': \\'http://www.columbia.edu/~xig2000/photos_deb/frame_\" \n",
    "    body = body + filename + '\\'}'\n",
    "    #body = '{\\'URL\\': \\'http://www.columbia.edu/~xig2000/HW1VIS/photos/HilBer.jpg\\'}'\n",
    "\n",
    "\n",
    "    try:\n",
    "       conn = http.client.HTTPSConnection('api.projectoxford.ai')\n",
    "       conn.request(\"POST\", \"/face/v0/detections?%s\" % params, body, headers)\n",
    "       print(\"send request\")\n",
    "       response = conn.getresponse()\n",
    "       data = response.read().decode('utf-8')\n",
    "       #print(type(data))\n",
    "       print(filename)\n",
    "       print(data)\n",
    "       imagerecord = \"{\\\"id\\\" : \\\"\" + filename + \"\\\", \\\"data\\\" : \" + data + \"}\"\n",
    "       print(imagerecord)\n",
    "       imagejson = json.loads(imagerecord) \n",
    "\n",
    "       #print(data)\n",
    "       post_id = image_collection.insert(imagejson)\n",
    "       conn.close()\n",
    "    except Exception as e:\n",
    "       print(\"[Errno {0}] {1}\".format(e.errno, e.strerror))"
   ]
  },
  {
   "cell_type": "code",
   "execution_count": 1,
   "metadata": {
    "collapsed": false
   },
   "outputs": [
    {
     "name": "stdout",
     "output_type": "stream",
     "text": [
      "b'[{\"faceRectangle\":{\"height\":90,\"left\":242,\"top\":141,\"width\":90},\"scores\":{\"anger\":0.0016967227,\"contempt\":0.00283559086,\"disgust\":0.0007044759,\"fear\":2.83562567E-05,\"happiness\":0.03509238,\"neutral\":0.9589854,\"sadness\":0.000437217182,\"surprise\":0.000219841575}},{\"faceRectangle\":{\"height\":86,\"left\":834,\"top\":222,\"width\":86},\"scores\":{\"anger\":0.0002007115,\"contempt\":0.0133008556,\"disgust\":0.00394027261,\"fear\":0.030041106,\"happiness\":0.378751665,\"neutral\":0.20504716,\"sadness\":0.01701525,\"surprise\":0.351702958}}]'\n"
     ]
    }
   ],
   "source": [
    "########### Python 3.2 #############\n",
    "import http.client, urllib.request, urllib.parse, urllib.error, base64\n",
    "\n",
    "body = '{\\'URL\\': \\'http://www.columbia.edu/~xig2000/HW1VIS/photos/HilBer.jpg\\'}'\n",
    "\n",
    "headers = {\n",
    "    # Request headers\n",
    "    'Content-Type': 'application/json',\n",
    "    'Ocp-Apim-Subscription-Key': '32c88b2d68ac453385a72161673931e4',\n",
    "}\n",
    "\n",
    "params = urllib.parse.urlencode({\n",
    "    # Request parameters\n",
    "   # 'faceRectangles': '{string}',\n",
    "})\n",
    "\n",
    "try:\n",
    "    conn = http.client.HTTPSConnection('api.projectoxford.ai')\n",
    "    conn.request(\"POST\", \"/emotion/v1.0/recognize?%s\" % params, body, headers)\n",
    "    response = conn.getresponse()\n",
    "    data = response.read()\n",
    "    print(data)\n",
    "    conn.close()\n",
    "except Exception as e:\n",
    "    print(\"[Errno {0}] {1}\".format(e.errno, e.strerror))\n",
    "\n",
    "####################################\n"
   ]
  },
  {
   "cell_type": "code",
   "execution_count": 16,
   "metadata": {
    "collapsed": false
   },
   "outputs": [
    {
     "name": "stdout",
     "output_type": "stream",
     "text": [
      "{'URL': 'http://www.columbia.edu/~xig2000/HW1VIS/photos/HilBer.jpg'}010101\n"
     ]
    }
   ],
   "source": [
    "print(body + '010101')\n"
   ]
  },
  {
   "cell_type": "code",
   "execution_count": 68,
   "metadata": {
    "collapsed": false
   },
   "outputs": [],
   "source": [
    "import numpy\n",
    "\n",
    "\n"
   ]
  },
  {
   "cell_type": "markdown",
   "metadata": {},
   "source": [
    "1:3"
   ]
  },
  {
   "cell_type": "code",
   "execution_count": 69,
   "metadata": {
    "collapsed": false
   },
   "outputs": [
    {
     "data": {
      "text/plain": [
       "\"{'URL': 'http://www.columbia.edu/~xig2000/HW1VIS/photos_deb/frame_000251.jpg\""
      ]
     },
     "execution_count": 69,
     "metadata": {},
     "output_type": "execute_result"
    }
   ],
   "source": [
    "url_p[251]"
   ]
  },
  {
   "cell_type": "code",
   "execution_count": 73,
   "metadata": {
    "collapsed": false
   },
   "outputs": [
    {
     "data": {
      "text/plain": [
       "\"{'URL': 'http://www.columbia.edu/~xig2000/HW1VIS/photos_deb/frame_000251.jpg'}\""
      ]
     },
     "execution_count": 73,
     "metadata": {},
     "output_type": "execute_result"
    }
   ],
   "source": [
    "body\n"
   ]
  },
  {
   "cell_type": "code",
   "execution_count": 58,
   "metadata": {
    "collapsed": false
   },
   "outputs": [
    {
     "data": {
      "text/plain": [
       "221251"
      ]
     },
     "execution_count": 58,
     "metadata": {},
     "output_type": "execute_result"
    }
   ],
   "source": [
    "i"
   ]
  },
  {
   "cell_type": "code",
   "execution_count": null,
   "metadata": {
    "collapsed": true
   },
   "outputs": [],
   "source": []
  }
 ],
 "metadata": {
  "kernelspec": {
   "display_name": "Python 3",
   "language": "python",
   "name": "python3"
  },
  "language_info": {
   "codemirror_mode": {
    "name": "ipython",
    "version": 3
   },
   "file_extension": ".py",
   "mimetype": "text/x-python",
   "name": "python",
   "nbconvert_exporter": "python",
   "pygments_lexer": "ipython3",
   "version": "3.3.5"
  }
 },
 "nbformat": 4,
 "nbformat_minor": 0
}
