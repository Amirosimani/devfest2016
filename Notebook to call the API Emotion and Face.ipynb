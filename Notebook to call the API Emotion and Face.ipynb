{
 "cells": [
  {
   "cell_type": "code",
   "execution_count": null,
   "metadata": {
    "collapsed": false
   },
   "outputs": [],
   "source": [
    "from pymongo import MongoClient\n",
    "import os,http, http.client, urllib.request, urllib.parse, urllib.error, base64, json, numpy, time\n",
    "\n",
    "\n",
    "def sim_4(j,k,m,l):\n",
    "    return ((j[m][l] <= (k[m][l] + 5)) and (j[m][l] >= (k[m][l] - 5)))\n",
    "\n",
    "def sim_3(j,k,l):\n",
    "    return sim_4(j,k,'faceRectangle',l)\n",
    "\n",
    "def similar(j, k):\n",
    "    return (sim_3(j,k,'left') and sim_3(j,k,'top') and sim_3(j,k,'height') and sim_3(j,k,'width'))\n",
    "    \n",
    "\n",
    "\n",
    "\n",
    "\n",
    "client = MongoClient('localhost', 27017)\n",
    "db = client.debate_database\n",
    "image_collection = db.image_collection\n",
    "emotion_collection = db.emotion_collection\n",
    "\n",
    "\n",
    "headers = {\n",
    "   'Content-type': 'application/json',\n",
    "}\n",
    "\n",
    "\n",
    "\n",
    "emotion_headers = {\n",
    "    # Request headers\n",
    "    'Content-Type': 'application/json',\n",
    "    'Ocp-Apim-Subscription-Key': '32c88b2d68ac453385a72161673931e4',\n",
    "}\n",
    "\n",
    "\n",
    "params = urllib.parse.urlencode({\n",
    "   # Specify your subscription key\n",
    "   'subscription-key': '2ed7c5847ac640f6b0a404c72d0b96f2',\n",
    "   # Specify values for optional parameters, as needed\n",
    "   'analyzesFaceLandmarks': 'false',\n",
    "   'analyzesAge': 'true',\n",
    "   'analyzesGender': 'true',\n",
    "   'analyzesHeadPose': 'true',\n",
    "})\n",
    "\n",
    "emotion_params = urllib.parse.urlencode({\n",
    "    # Request parameters\n",
    "   # 'faceRectangles': '{string}',\n",
    "})\n",
    "\n",
    "aa = numpy.arange(1, 221501, 250)\n",
    "url_p = {}\n",
    "index = 1\n",
    "for i in aa:\n",
    "    if index % 20 == 0:\n",
    "        time.sleep(60)\n",
    "    index = index + 1\n",
    "    filename = str('000000'[0:(6-len(str(i)))]) +  str(i) + '.jpg'\n",
    "    body =  \"{\\'URL\\': \\'http://www.columbia.edu/~xig2000/photos_deb/frame_\" \n",
    "    body = body + filename + '\\'}'\n",
    "    #body = '{\\'URL\\': \\'http://www.columbia.edu/~xig2000/HW1VIS/photos/HilBer.jpg\\'}'\n",
    "\n",
    "    try:\n",
    "        conn = http.client.HTTPSConnection('api.projectoxford.ai')\n",
    "        conn.request(\"POST\", \"/face/v0/detections?%s\" % params, body, headers)\n",
    "        print(\"Obtaining response no. {0}\".format(str(index)))\n",
    "        response = conn.getresponse()\n",
    "        data = json.loads(response.read().decode('utf-8'))\n",
    "        conn.close() \n",
    "        conn = http.client.HTTPSConnection('api.projectoxford.ai')\n",
    "        conn.request(\"POST\", \"/emotion/v1.0/recognize?%s\" % emotion_params, body, emotion_headers)\n",
    "        emotion_response = conn.getresponse()\n",
    "        emotion_data = json.loads(emotion_response.read().decode('utf-8'))\n",
    "        conn.close()\n",
    "        imageindex = 0\n",
    "        for j in data:\n",
    "            for k in emotion_data: \n",
    "                print(j)\n",
    "                print(k)\n",
    "                if (j != \"message\") & (j != \"statusCode\") & (k != \"message\") & (k != \"statusCode\") & similar(j,k):\n",
    "                   imageindex = imageindex + 1 \n",
    "                   imagerecord = \"{\\\"_id\\\" : \\\"\" + filename + str(imageindex) + \"\\\", \\\"facedata\\\" :\" + json.dumps(j) + \", \\\"scores\\\" :\" + json.dumps(k['scores']) + \"}\"\n",
    "                   #print(imagerecord)\n",
    "                   imagejson = json.loads(imagerecord) \n",
    "                   post_id = emotion_collection.insert(imagejson)\n",
    "    except Exception as e:\n",
    "        print(\"[Errno {0}] {1}\".format(e.errno, e.strerror))\n",
    "    \n",
    "\n",
    "\n",
    "Bernies = image_collection.find({\"$and\": [{\"data.attributes.gender\" : \"male\"},{\"data.attributes.age\" : {\"$gte\" : 50}}]})\n",
    "Hillaries = image_collection.find({\"$and\": [{\"data.attributes.gender\" : \"female\"},{\"data.attributes.age\" : {\"$gte\" : 50}}]})\n",
    "for Bernie in Bernies: \n",
    "    print(Bernie)\n",
    "for Hillary in Hillaries:     \n",
    "    print(Hillary)\n",
    "\n",
    "\n",
    "    \n",
    "    \n"
   ]
  },
  {
   "cell_type": "code",
   "execution_count": null,
   "metadata": {
    "collapsed": false
   },
   "outputs": [],
   "source": [
    "\n"
   ]
  },
  {
   "cell_type": "code",
   "execution_count": null,
   "metadata": {
    "collapsed": false
   },
   "outputs": [],
   "source": [
    "print(body + '010101')\n"
   ]
  },
  {
   "cell_type": "code",
   "execution_count": null,
   "metadata": {
    "collapsed": false
   },
   "outputs": [],
   "source": [
    "import numpy\n",
    "\n",
    "\n"
   ]
  },
  {
   "cell_type": "markdown",
   "metadata": {},
   "source": [
    "1:3"
   ]
  },
  {
   "cell_type": "code",
   "execution_count": null,
   "metadata": {
    "collapsed": false
   },
   "outputs": [],
   "source": [
    "url_p[251]"
   ]
  },
  {
   "cell_type": "code",
   "execution_count": null,
   "metadata": {
    "collapsed": false
   },
   "outputs": [],
   "source": [
    "body\n"
   ]
  },
  {
   "cell_type": "code",
   "execution_count": null,
   "metadata": {
    "collapsed": false
   },
   "outputs": [],
   "source": [
    "i"
   ]
  },
  {
   "cell_type": "code",
   "execution_count": null,
   "metadata": {
    "collapsed": true
   },
   "outputs": [],
   "source": []
  },
  {
   "cell_type": "code",
   "execution_count": null,
   "metadata": {
    "collapsed": true
   },
   "outputs": [],
   "source": []
  },
  {
   "cell_type": "code",
   "execution_count": null,
   "metadata": {
    "collapsed": true
   },
   "outputs": [],
   "source": []
  },
  {
   "cell_type": "code",
   "execution_count": null,
   "metadata": {
    "collapsed": true
   },
   "outputs": [],
   "source": []
  },
  {
   "cell_type": "code",
   "execution_count": null,
   "metadata": {
    "collapsed": true
   },
   "outputs": [],
   "source": []
  },
  {
   "cell_type": "code",
   "execution_count": null,
   "metadata": {
    "collapsed": true
   },
   "outputs": [],
   "source": []
  }
 ],
 "metadata": {
  "kernelspec": {
   "display_name": "Python 3",
   "language": "python",
   "name": "python3"
  },
  "language_info": {
   "codemirror_mode": {
    "name": "ipython",
    "version": 3
   },
   "file_extension": ".py",
   "mimetype": "text/x-python",
   "name": "python",
   "nbconvert_exporter": "python",
   "pygments_lexer": "ipython3",
   "version": "3.3.5"
  }
 },
 "nbformat": 4,
 "nbformat_minor": 0
}
