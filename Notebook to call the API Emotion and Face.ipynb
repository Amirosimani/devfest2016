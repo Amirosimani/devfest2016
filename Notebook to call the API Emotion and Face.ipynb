{
 "cells": [
  {
   "cell_type": "code",
   "execution_count": null,
   "metadata": {
    "collapsed": false
   },
   "outputs": [
    {
     "name": "stdout",
     "output_type": "stream",
     "text": [
      "Obtaining response no. 2\n",
      "Obtaining response no. 3\n",
      "Obtaining response no. 4\n",
      "Obtaining response no. 5\n",
      "Obtaining response no. 6\n",
      "Obtaining response no. 7\n",
      "Obtaining response no. 8\n",
      "{\"_id\" : \"001501.jpg1\", \"facedata\" :{\"faceRectangle\": {\"top\": 61, \"width\": 47, \"left\": 233, \"height\": 47}, \"faceId\": \"5937f144-187e-47bf-838c-94ee077a3d5a\", \"attributes\": {\"age\": 35, \"gender\": \"male\", \"headPose\": {\"yaw\": -31.7, \"pitch\": 0.0, \"roll\": 5.0}}}, \"scores\" :{\"fear\": 0.000367748522, \"anger\": 0.000224403047, \"contempt\": 0.008075206, \"sadness\": 0.007342664, \"neutral\": 0.42938742, \"surprise\": 0.00149261078, \"happiness\": 0.5523964, \"disgust\": 0.000713501067}}\n",
      "Obtaining response no. 9\n",
      "Obtaining response no. 10\n",
      "Obtaining response no. 11\n",
      "Obtaining response no. 12\n",
      "Obtaining response no. 13\n",
      "Obtaining response no. 14\n",
      "Obtaining response no. 15\n",
      "Obtaining response no. 16\n",
      "{\"_id\" : \"003501.jpg1\", \"facedata\" :{\"faceRectangle\": {\"top\": 64, \"width\": 67, \"left\": 408, \"height\": 67}, \"faceId\": \"7908b238-4600-439a-b547-55da7470091d\", \"attributes\": {\"age\": 36, \"gender\": \"male\", \"headPose\": {\"yaw\": -15.6, \"pitch\": 0.0, \"roll\": -1.2}}}, \"scores\" :{\"fear\": 5.159797e-07, \"anger\": 7.609131e-05, \"contempt\": 2.5629497e-05, \"sadness\": 0.000236484644, \"neutral\": 0.99961406, \"surprise\": 2.85275314e-06, \"happiness\": 4.41885422e-05, \"disgust\": 1.66853383e-07}}\n",
      "{\"_id\" : \"003501.jpg2\", \"facedata\" :{\"faceRectangle\": {\"top\": 71, \"width\": 61, \"left\": 98, \"height\": 61}, \"faceId\": \"27d9c2e0-d143-478d-93ad-0fb8a5cbba27\", \"attributes\": {\"age\": 43, \"gender\": \"female\", \"headPose\": {\"yaw\": -10.8, \"pitch\": 0.0, \"roll\": 5.3}}}, \"scores\" :{\"fear\": 0.0550204553, \"anger\": 0.0023898175, \"contempt\": 0.009290769, \"sadness\": 0.128512472, \"neutral\": 0.4889998, \"surprise\": 0.05153784, \"happiness\": 0.228021577, \"disgust\": 0.03622725}}\n",
      "Obtaining response no. 17\n",
      "Obtaining response no. 18\n",
      "Obtaining response no. 19\n",
      "Obtaining response no. 20\n",
      "Obtaining response no. 21\n",
      "Obtaining response no. 22\n",
      "{\"_id\" : \"005001.jpg1\", \"facedata\" :{\"faceRectangle\": {\"top\": 110, \"width\": 43, \"left\": 261, \"height\": 43}, \"faceId\": \"9211bfe9-fcc0-41cd-bcec-4aed188bd55c\", \"attributes\": {\"age\": 46, \"gender\": \"male\", \"headPose\": {\"yaw\": 26.3, \"pitch\": 0.0, \"roll\": -3.1}}}, \"scores\" :{\"fear\": 5.33611365e-06, \"anger\": 7.374712e-05, \"contempt\": 3.99645751e-06, \"sadness\": 0.008619652, \"neutral\": 0.9912203, \"surprise\": 3.697249e-05, \"happiness\": 3.949907e-05, \"disgust\": 4.965707e-07}}\n",
      "Obtaining response no. 23\n",
      "{\"_id\" : \"005251.jpg1\", \"facedata\" :{\"faceRectangle\": {\"top\": 77, \"width\": 49, \"left\": 214, \"height\": 49}, \"faceId\": \"9c7d6e55-3c94-424c-857e-2f120c7d7013\", \"attributes\": {\"age\": 35, \"gender\": \"male\", \"headPose\": {\"yaw\": -3.5, \"pitch\": 0.0, \"roll\": 1.5}}}, \"scores\" :{\"fear\": 4.09913519e-05, \"anger\": 0.00166019658, \"contempt\": 0.00881445, \"sadness\": 0.00263817143, \"neutral\": 0.9819858, \"surprise\": 0.001577817, \"happiness\": 0.00293564773, \"disgust\": 0.000346907269}}\n",
      "Obtaining response no. 24\n",
      "{\"_id\" : \"005501.jpg1\", \"facedata\" :{\"faceRectangle\": {\"top\": 79, \"width\": 54, \"left\": 196, \"height\": 54}, \"faceId\": \"1f5e74ab-5152-47ae-acaf-afc9b284671e\", \"attributes\": {\"age\": 40, \"gender\": \"male\", \"headPose\": {\"yaw\": 1.0, \"pitch\": 0.0, \"roll\": -8.0}}}, \"scores\" :{\"fear\": 4.50301832e-06, \"anger\": 0.005516948, \"contempt\": 0.00131525786, \"sadness\": 0.006152253, \"neutral\": 0.98661, \"surprise\": 4.401912e-06, \"happiness\": 0.0003458163, \"disgust\": 5.08088524e-05}}\n",
      "Obtaining response no. 25\n",
      "Obtaining response no. 26\n",
      "Obtaining response no. 27\n",
      "Obtaining response no. 28\n",
      "{\"_id\" : \"006501.jpg1\", \"facedata\" :{\"faceRectangle\": {\"top\": 79, \"width\": 137, \"left\": 243, \"height\": 137}, \"faceId\": \"5f9c6a26-73a5-4690-b6f6-378c3f967ce2\", \"attributes\": {\"age\": 75, \"gender\": \"male\", \"headPose\": {\"yaw\": 0.0, \"pitch\": 0.0, \"roll\": 1.0}}}, \"scores\" :{\"fear\": 0.000306526752, \"anger\": 0.00248699845, \"contempt\": 0.00154028833, \"sadness\": 0.00308817322, \"neutral\": 0.9722008, \"surprise\": 0.01551393, \"happiness\": 0.00108440849, \"disgust\": 0.003778862}}\n",
      "Obtaining response no. 29\n",
      "Obtaining response no. 30\n",
      "Obtaining response no. 31\n",
      "Obtaining response no. 32\n",
      "Obtaining response no. 33"
     ]
    }
   ],
   "source": [
    "from pymongo import MongoClient\n",
    "import os,http, http.client, urllib.request, urllib.parse, urllib.error, base64, json, numpy, time\n",
    "\n",
    "client = MongoClient('localhost', 27017)\n",
    "db = client.debate_database\n",
    "image_collection = db.image_collection\n",
    "emotion_collection = db.emotion_collection\n",
    "\n",
    "\n",
    "headers = {\n",
    "   'Content-type': 'application/json',\n",
    "}\n",
    "\n",
    "\n",
    "\n",
    "emotion_headers = {\n",
    "    # Request headers\n",
    "    'Content-Type': 'application/json',\n",
    "    'Ocp-Apim-Subscription-Key': '32c88b2d68ac453385a72161673931e4',\n",
    "}\n",
    "\n",
    "\n",
    "params = urllib.parse.urlencode({\n",
    "   # Specify your subscription key\n",
    "   'subscription-key': '2ed7c5847ac640f6b0a404c72d0b96f2',\n",
    "   # Specify values for optional parameters, as needed\n",
    "   'analyzesFaceLandmarks': 'false',\n",
    "   'analyzesAge': 'true',\n",
    "   'analyzesGender': 'true',\n",
    "   'analyzesHeadPose': 'true',\n",
    "})\n",
    "\n",
    "emotion_params = urllib.parse.urlencode({\n",
    "    # Request parameters\n",
    "   # 'faceRectangles': '{string}',\n",
    "})\n",
    "\n",
    "aa = numpy.arange(1, 221501, 250)\n",
    "url_p = {}\n",
    "index = 1\n",
    "for i in aa:\n",
    "    if index % 20 == 0:\n",
    "        time.sleep(60)\n",
    "    index = index + 1\n",
    "    filename = str('000000'[0:(6-len(str(i)))]) +  str(i) + '.jpg'\n",
    "    body =  \"{\\'URL\\': \\'http://www.columbia.edu/~xig2000/photos_deb/frame_\" \n",
    "    body = body + filename + '\\'}'\n",
    "    #body = '{\\'URL\\': \\'http://www.columbia.edu/~xig2000/HW1VIS/photos/HilBer.jpg\\'}'\n",
    "\n",
    "    try:\n",
    "       conn = http.client.HTTPSConnection('api.projectoxford.ai')\n",
    "       conn.request(\"POST\", \"/face/v0/detections?%s\" % params, body, headers)\n",
    "       print(\"Obtaining response no. {0}\".format(str(index)))\n",
    "       response = conn.getresponse()\n",
    "       data = json.loads(response.read().decode('utf-8'))\n",
    "       conn.close() \n",
    "       conn = http.client.HTTPSConnection('api.projectoxford.ai')\n",
    "       conn.request(\"POST\", \"/emotion/v1.0/recognize?%s\" % emotion_params, body, emotion_headers)\n",
    "       emotion_response = conn.getresponse()\n",
    "       emotion_data = json.loads(emotion_response.read().decode('utf-8'))\n",
    "       conn.close()\n",
    "       imageindex = 0\n",
    "       for j in data:\n",
    "           for k in emotion_data: \n",
    "               if (j != \"message\") & (j != \"statusCode\") & (j['faceRectangle'] == k['faceRectangle']):\n",
    "                   imageindex = imageindex + 1 \n",
    "                   imagerecord = \"{\\\"_id\\\" : \\\"\" + filename + str(imageindex) + \"\\\", \\\"facedata\\\" :\" + json.dumps(j) + \", \\\"scores\\\" :\" + json.dumps(k['scores']) + \"}\"\n",
    "                   print(imagerecord)\n",
    "                   imagejson = json.loads(imagerecord) \n",
    "                   post_id = emotion_collection.insert(imagejson)\n",
    "        \n",
    "       conn.close()\n",
    "    except Exception as e:\n",
    "       print(\"[Errno {0}] {1}\".format(e.errno, e.strerror))\n",
    "    \n",
    "\n",
    "\n",
    "Bernies = image_collection.find({\"$and\": [{\"data.attributes.gender\" : \"male\"},{\"data.attributes.age\" : {\"$gte\" : 50}}]})\n",
    "Hillaries = image_collection.find({\"$and\": [{\"data.attributes.gender\" : \"female\"},{\"data.attributes.age\" : {\"$gte\" : 50}}]})\n",
    "for Bernie in Bernies: \n",
    "    print(Bernie)\n",
    "for Hillary in Hillaries:     \n",
    "    print(Hillary)\n",
    "\n"
   ]
  },
  {
   "cell_type": "code",
   "execution_count": 13,
   "metadata": {
    "collapsed": false
   },
   "outputs": [
    {
     "name": "stdout",
     "output_type": "stream",
     "text": [
      "b'[{\"faceRectangle\":{\"height\":90,\"left\":242,\"top\":141,\"width\":90},\"scores\":{\"anger\":0.0016967227,\"contempt\":0.00283559086,\"disgust\":0.0007044759,\"fear\":2.83562567E-05,\"happiness\":0.03509238,\"neutral\":0.9589854,\"sadness\":0.000437217182,\"surprise\":0.000219841575}},{\"faceRectangle\":{\"height\":86,\"left\":834,\"top\":222,\"width\":86},\"scores\":{\"anger\":0.0002007115,\"contempt\":0.0133008556,\"disgust\":0.00394027261,\"fear\":0.030041106,\"happiness\":0.378751665,\"neutral\":0.20504716,\"sadness\":0.01701525,\"surprise\":0.351702958}}]'\n"
     ]
    }
   ],
   "source": [
    "########### Python 3.2 #############\n",
    "import http.client, urllib.request, urllib.parse, urllib.error, base64\n",
    "\n",
    "emotion_collection = db.emotion_collection\n",
    "\n",
    "body = '{\\'URL\\': \\'http://www.columbia.edu/~xig2000/HW1VIS/photos/HilBer.jpg\\'}'\n",
    "\n",
    "headers = {\n",
    "    # Request headers\n",
    "    'Content-Type': 'application/json',\n",
    "    'Ocp-Apim-Subscription-Key': '32c88b2d68ac453385a72161673931e4',\n",
    "}\n",
    "\n",
    "params = urllib.parse.urlencode({\n",
    "    # Request parameters\n",
    "   # 'faceRectangles': '{string}',\n",
    "})\n",
    "\n",
    "try:\n",
    "    conn = http.client.HTTPSConnection('api.projectoxford.ai')\n",
    "    conn.request(\"POST\", \"/emotion/v1.0/recognize?%s\" % params, body, headers)\n",
    "    response = conn.getresponse()\n",
    "    data = response.read()\n",
    "    print(data)\n",
    "    conn.close()\n",
    "except Exception as e:\n",
    "    print(\"[Errno {0}] {1}\".format(e.errno, e.strerror))\n",
    "\n",
    "####################################\n"
   ]
  },
  {
   "cell_type": "code",
   "execution_count": 2,
   "metadata": {
    "collapsed": false
   },
   "outputs": [
    {
     "name": "stdout",
     "output_type": "stream",
     "text": [
      "{'URL': 'http://www.columbia.edu/~xig2000/HW1VIS/photos/HilBer.jpg'}010101\n"
     ]
    }
   ],
   "source": [
    "print(body + '010101')\n"
   ]
  },
  {
   "cell_type": "code",
   "execution_count": 3,
   "metadata": {
    "collapsed": false
   },
   "outputs": [],
   "source": [
    "import numpy\n",
    "\n",
    "\n"
   ]
  },
  {
   "cell_type": "markdown",
   "metadata": {},
   "source": [
    "1:3"
   ]
  },
  {
   "cell_type": "code",
   "execution_count": 4,
   "metadata": {
    "collapsed": false
   },
   "outputs": [
    {
     "ename": "NameError",
     "evalue": "name 'url_p' is not defined",
     "output_type": "error",
     "traceback": [
      "\u001b[0;31m---------------------------------------------------------------------------\u001b[0m",
      "\u001b[0;31mNameError\u001b[0m                                 Traceback (most recent call last)",
      "\u001b[0;32m<ipython-input-4-d6fc2a9614c4>\u001b[0m in \u001b[0;36m<module>\u001b[0;34m()\u001b[0m\n\u001b[0;32m----> 1\u001b[0;31m \u001b[0murl_p\u001b[0m\u001b[0;34m[\u001b[0m\u001b[0;36m251\u001b[0m\u001b[0;34m]\u001b[0m\u001b[0;34m\u001b[0m\u001b[0m\n\u001b[0m",
      "\u001b[0;31mNameError\u001b[0m: name 'url_p' is not defined"
     ]
    }
   ],
   "source": [
    "url_p[251]"
   ]
  },
  {
   "cell_type": "code",
   "execution_count": 5,
   "metadata": {
    "collapsed": false
   },
   "outputs": [
    {
     "data": {
      "text/plain": [
       "\"{'URL': 'http://www.columbia.edu/~xig2000/HW1VIS/photos/HilBer.jpg'}\""
      ]
     },
     "execution_count": 5,
     "metadata": {},
     "output_type": "execute_result"
    }
   ],
   "source": [
    "body\n"
   ]
  },
  {
   "cell_type": "code",
   "execution_count": 6,
   "metadata": {
    "collapsed": false
   },
   "outputs": [
    {
     "ename": "NameError",
     "evalue": "name 'i' is not defined",
     "output_type": "error",
     "traceback": [
      "\u001b[0;31m---------------------------------------------------------------------------\u001b[0m",
      "\u001b[0;31mNameError\u001b[0m                                 Traceback (most recent call last)",
      "\u001b[0;32m<ipython-input-6-372e25f23b5a>\u001b[0m in \u001b[0;36m<module>\u001b[0;34m()\u001b[0m\n\u001b[0;32m----> 1\u001b[0;31m \u001b[0mi\u001b[0m\u001b[0;34m\u001b[0m\u001b[0m\n\u001b[0m",
      "\u001b[0;31mNameError\u001b[0m: name 'i' is not defined"
     ]
    }
   ],
   "source": [
    "i"
   ]
  },
  {
   "cell_type": "code",
   "execution_count": null,
   "metadata": {
    "collapsed": true
   },
   "outputs": [],
   "source": []
  },
  {
   "cell_type": "code",
   "execution_count": null,
   "metadata": {
    "collapsed": true
   },
   "outputs": [],
   "source": []
  },
  {
   "cell_type": "code",
   "execution_count": null,
   "metadata": {
    "collapsed": true
   },
   "outputs": [],
   "source": []
  },
  {
   "cell_type": "code",
   "execution_count": null,
   "metadata": {
    "collapsed": true
   },
   "outputs": [],
   "source": []
  },
  {
   "cell_type": "code",
   "execution_count": null,
   "metadata": {
    "collapsed": true
   },
   "outputs": [],
   "source": []
  },
  {
   "cell_type": "code",
   "execution_count": null,
   "metadata": {
    "collapsed": true
   },
   "outputs": [],
   "source": []
  }
 ],
 "metadata": {
  "kernelspec": {
   "display_name": "Python 3",
   "language": "python",
   "name": "python3"
  },
  "language_info": {
   "codemirror_mode": {
    "name": "ipython",
    "version": 3
   },
   "file_extension": ".py",
   "mimetype": "text/x-python",
   "name": "python",
   "nbconvert_exporter": "python",
   "pygments_lexer": "ipython3",
   "version": "3.3.5"
  }
 },
 "nbformat": 4,
 "nbformat_minor": 0
}
