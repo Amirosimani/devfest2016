{
 "cells": [
  {
   "cell_type": "code",
   "execution_count": 10,
   "metadata": {
    "collapsed": false
   },
   "outputs": [
    {
     "name": "stdout",
     "output_type": "stream",
     "text": [
      "Send request\n",
      "[{\"faceRectangle\":{\"height\":1011,\"left\":2402,\"top\":626,\"width\":1011},\"scores\":{\"anger\":0.653333,\"contempt\":0.01938394,\"disgust\":0.286300063,\"fear\":0.0023371072,\"happiness\":0.00200876314,\"neutral\":0.03473005,\"sadness\":0.0006960097,\"surprise\":0.00121106545}}]\n"
     ]
    }
   ],
   "source": [
    "### Emotion API \n",
    "########### Python 2.7 ############# 32c88b2d68ac453385a72161673931e4\n",
    "import httplib, urllib, base64  \n",
    "\n",
    "# Image to analyse (body of the request)\n",
    "\n",
    "body = '{\\'URL\\': \\'http://www.columbia.edu/~xig2000/HW1VIS/photos/HilBer.jpg\\'}'\n",
    "\n",
    "# API request for Emotion Detection\n",
    "\n",
    "headers = {\n",
    "   'Content-type': 'application/json',\n",
    "}\n",
    "\n",
    "params = urllib.urlencode({\n",
    "   'subscription-key': '32c88b2d68ac453385a72161673931e4',  # Enter EMOTION API key\n",
    "   #'faceRectangles': '',\n",
    "})\n",
    "\n",
    "try:\n",
    "   conn = httplib.HTTPSConnection('api.projectoxford.ai')\n",
    "   conn.request(\"POST\", \"/emotion/v1.0/recognize?%s\" % params, body , headers)\n",
    "   response = conn.getresponse()\n",
    "   print(\"Send request\")\n",
    "\n",
    "   data = response.read()\n",
    "   print(data)\n",
    "   conn.close()\n",
    "except Exception as e:\n",
    "   print(\"[Errno {0}] {1}\".format(e.errno, e.strerror))"
   ]
  },
  {
   "cell_type": "code",
   "execution_count": null,
   "metadata": {
    "collapsed": true
   },
   "outputs": [],
   "source": []
  }
 ],
 "metadata": {
  "kernelspec": {
   "display_name": "Python 2",
   "language": "python",
   "name": "python2"
  },
  "language_info": {
   "codemirror_mode": {
    "name": "ipython",
    "version": 2
   },
   "file_extension": ".py",
   "mimetype": "text/x-python",
   "name": "python",
   "nbconvert_exporter": "python",
   "pygments_lexer": "ipython2",
   "version": "2.7.10"
  }
 },
 "nbformat": 4,
 "nbformat_minor": 0
}
