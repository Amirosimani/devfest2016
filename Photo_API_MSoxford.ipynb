{
 "cells": [
  {
   "cell_type": "code",
   "execution_count": 13,
   "metadata": {
    "collapsed": false
   },
   "outputs": [
    {
     "name": "stdout",
     "output_type": "stream",
     "text": [
      "Send request\n",
      "[{\"faceRectangle\":{\"height\":244,\"left\":142,\"top\":198,\"width\":244},\"scores\":{\"anger\":0.000257385836,\"contempt\":0.003126232,\"disgust\":1.509737E-05,\"fear\":1.46858224E-06,\"happiness\":0.00100161752,\"neutral\":0.9954711,\"sadness\":9.857443E-05,\"surprise\":2.85227889E-05}}]\n"
     ]
    }
   ],
   "source": [
    "### Emotion API \n",
    "########### Python 2.7 ############# 32c88b2d68ac453385a72161673931e4\n",
    "import httplib, urllib, base64  \n",
    "\n",
    "# Image to analyse (body of the request)\n",
    "\n",
    "body = '{\\'URL\\': \\'http://www.columbia.edu/~xig2000/HW1VIS/photos/ParticipantImageServlet (1).jpeg\\'}'\n",
    "\n",
    "# API request for Emotion Detection\n",
    "\n",
    "headers = {\n",
    "   'Content-type': 'application/json',\n",
    "}\n",
    "\n",
    "params = urllib.urlencode({\n",
    "   'subscription-key': '32c88b2d68ac453385a72161673931e4',  # Enter EMOTION API key\n",
    "   #'faceRectangles': '',\n",
    "})\n",
    "\n",
    "try:\n",
    "   conn = httplib.HTTPSConnection('api.projectoxford.ai')\n",
    "   conn.request(\"POST\", \"/emotion/v1.0/recognize?%s\" % params, body , headers)\n",
    "   response = conn.getresponse()\n",
    "   print(\"Send request\")\n",
    "\n",
    "   data = response.read()\n",
    "   print(data)\n",
    "   conn.close()\n",
    "except Exception as e:\n",
    "   print(\"[Errno {0}] {1}\".format(e.errno, e.strerror))"
   ]
  },
  {
   "cell_type": "code",
   "execution_count": 15,
   "metadata": {
    "collapsed": false
   },
   "outputs": [
    {
     "name": "stdout",
     "output_type": "stream",
     "text": [
      "{\"code\":\"BadArgument\",\"message\":\"Face ID is invalid.\"}\n"
     ]
    }
   ],
   "source": [
    "########### Python 2.7 #############\n",
    "import httplib, urllib, base64\n",
    "\n",
    "body = '{\\'URL\\': \\'http://i.telegraph.co.uk/multimedia/archive/02831/Clinton1web_2831249b.jpg\\'}'\n",
    "#body = '{\\'URL\\': \\'http://www.columbia.edu/~xig2000/HW1VIS/photos/ParticipantImageServlet (0).jpg\\'}'\n",
    "\n",
    "headers = {\n",
    "    # Request headers\n",
    "    'Content-Type': 'application/json',\n",
    "   \n",
    "}\n",
    "\n",
    "params = urllib.urlencode({\n",
    "         'subscription-key': '36fe0909af304e36bcfce8624dd2b960',  # Enter EMOTION API key\n",
    "})\n",
    "\n",
    "try:\n",
    "    conn = httplib.HTTPSConnection('api.projectoxford.ai')\n",
    "    conn.request(\"POST\", \"/face/v0/verifications?%s\" % params, body, headers)\n",
    "    response = conn.getresponse()\n",
    "    data = response.read()\n",
    "    print(data)\n",
    "    conn.close()\n",
    "except Exception as e:\n",
    "    print(\"[Errno {0}] {1}\".format(e.errno, e.strerror))\n",
    "\n",
    "####################################\n"
   ]
  },
  {
   "cell_type": "code",
   "execution_count": null,
   "metadata": {
    "collapsed": false
   },
   "outputs": [],
   "source": []
  },
  {
   "cell_type": "code",
   "execution_count": null,
   "metadata": {
    "collapsed": true
   },
   "outputs": [],
   "source": []
  }
 ],
 "metadata": {
  "kernelspec": {
   "display_name": "Python 2",
   "language": "python",
   "name": "python2"
  },
  "language_info": {
   "codemirror_mode": {
    "name": "ipython",
    "version": 2
   },
   "file_extension": ".py",
   "mimetype": "text/x-python",
   "name": "python",
   "nbconvert_exporter": "python",
   "pygments_lexer": "ipython2",
   "version": "2.7.10"
  }
 },
 "nbformat": 4,
 "nbformat_minor": 0
}
