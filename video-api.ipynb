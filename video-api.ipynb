{
 "cells": [
  {
   "cell_type": "code",
   "execution_count": null,
   "metadata": {
    "collapsed": false
   },
   "outputs": [],
   "source": [
    "### Emotion API \n",
    "########### Python 2.7 ############# 32c88b2d68ac453385a72161673931e4\n",
    "#from subprocess import call\n",
    "#from datetime import datetime\n",
    "import httplib as ht, urllib, base64  \n",
    "\n",
    "# Image to analyse (body of the request)\n",
    "#path = \"~/devfest16/\"\n",
    "#timestamp = datetime.datetime.now()\n",
    "#filename = \"image_\" + timestamp + \".png\"\n",
    "#call([\"imagesnap\", \"-l\"])\n",
    "body = '{\\'URL\\': \\'http://r1---sn-q4fl6n7s.googlevideo.com/videoplayback?source=youtube&pl=40&mime=video%2Fmp4&key=yt6&nh=IgpwcjA1LmRmdzA2KgkxMjcuMC4wLjE&itag=18&sparams=dur%2Cid%2Cinitcwndbps%2Cip%2Cipbits%2Citag%2Clmt%2Cmime%2Cmm%2Cmn%2Cms%2Cmv%2Cnh%2Cpl%2Cratebypass%2Csource%2Cupn%2Cexpire&fexp=9405191%2C9407610%2C9408210%2C9408522%2C9416126%2C9418200%2C9419451%2C9420452%2C9422342%2C9422571%2C9422596%2C9423661%2C9423662%2C9424006%2C9427317%2C9427365%2C9427850%2C9428320&ratebypass=yes&signature=CAAC38DAD7456E5637402AAD30C93F62BF7257BE.74A5530B106567403C74D4A5DDAB48E82771343A&ms=au&dur=7392.095&mv=m&mt=1454726630&ip=2a03%3A8180%3A1001%3A16a%3A%3A8ee1&initcwndbps=668750&id=o-ANwoTrvMAAYXJ1LdzHOUIuH-BRJ2q6_zR4gC2OXhsdlF&mn=sn-q4fl6n7s&mm=31&ipbits=0&lmt=1454662380247158&sver=3&expire=1454748367&upn=IGBOHtAEjX8&title=FULL+MSNBC+Democratic+Debate%3A+Hillary+Clinton+VS+Bernie+Sanders+-+New+Hampshire+Feb.+4%2C+2016\\'}'\n",
    "\n",
    "# API request for Emotion Detection\n",
    "\n",
    "headers = {\n",
    "  # 'Content-type': 'application/json',\n",
    "}\n",
    "\n",
    "params = urllib.urlencode({\n",
    "   'Ocp-Apim-Subscription-Key': '327e376a892d4447962ea9ca92547a61',  # Enter VIDEO API key\n",
    "   #'faceRectangles': '',\n",
    "})\n",
    "\n",
    "try:\n",
    "   conn = httplib.HTTPSConnection('api.projectoxford.ai')\n",
    "   conn.request(\"POST\", \"/video/v1.0/trackface?%s\" % params, body , headers)\n",
    "   response = conn.getresponse()\n",
    "   print(\"Send request\")\n",
    "\n",
    "   data = response.read()\n",
    "   print(\"Response finished\")\n",
    "   print(response.status)\n",
    "   print(response.getheader('Operation-Location'))\n",
    "   print(data)\n",
    "   conn.close()\n",
    "except Exception as e:\n",
    "   print(\"[Errno {0}] {1}\".format(e.errno, e.strerror))"
   ]
  },
  {
   "cell_type": "code",
   "execution_count": null,
   "metadata": {
    "collapsed": true
   },
   "outputs": [],
   "source": []
  },
  {
   "cell_type": "code",
   "execution_count": null,
   "metadata": {
    "collapsed": true
   },
   "outputs": [],
   "source": []
  }
 ],
 "metadata": {
  "kernelspec": {
   "display_name": "Python 2",
   "language": "python",
   "name": "python2"
  },
  "language_info": {
   "codemirror_mode": {
    "name": "ipython",
    "version": 2
   },
   "file_extension": ".py",
   "mimetype": "text/x-python",
   "name": "python",
   "nbconvert_exporter": "python",
   "pygments_lexer": "ipython2",
   "version": "2.7.10"
  }
 },
 "nbformat": 4,
 "nbformat_minor": 0
}
