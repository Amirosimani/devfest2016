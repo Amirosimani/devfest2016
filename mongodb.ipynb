{
 "cells": [
  {
   "cell_type": "code",
   "execution_count": 2,
   "metadata": {
    "collapsed": false
   },
   "outputs": [
    {
     "name": "stdout",
     "output_type": "stream",
     "text": [
      "56b582be84f973c3be57ea41\n"
     ]
    }
   ],
   "source": [
    "from pymongo import MongoClient\n",
    "\n",
    "client = MongoClient('localhost', 27017)\n",
    "db = client.debate_database\n",
    "s_collection = db.sentiment_collection\n",
    "\n",
    "sentiment = {\n",
    "  \"script_chunk_id\" : 1,\n",
    "  \"script_text\" : \"ieuwqoieqwnejqwkoeqwoieqoweuo\",\n",
    "  \"tone_analysis\" : \n",
    "  [{\n",
    "      \"name\": \"Emotion Tone\",\n",
    "      \"children\": [\n",
    "        {\n",
    "          \"name\": \"Cheerfulness\",\n",
    "          \"normalized_score\": 0.34,\n",
    "        },\n",
    "        {\n",
    "          \"name\": \"Negative\",\n",
    "          \"normalized_score\": 1,\n",
    "        },\n",
    "        {\n",
    "          \"name\": \"Anger\",\n",
    "          \"normalized_score\": 1,\n",
    "          \n",
    "        }\n",
    "      ]\n",
    "    },\n",
    "    {\n",
    "      \"name\": \"Writing Tone\",\n",
    "      \"children\": [\n",
    "        {\n",
    "          \"name\": \"Analytical\",\n",
    "          \"normalized_score\": 0.5955272693486946,\n",
    "        },\n",
    "        {\n",
    "          \"name\": \"Confident\",\n",
    "          \"normalized_score\": 0.5724867724867724,\n",
    "        },\n",
    "        {\n",
    "          \"name\": \"Tentative\",\n",
    "          \"normalized_score\": 0,\n",
    "        }\n",
    "      ]\n",
    "    },\n",
    "    {\n",
    "      \"name\": \"Social Tone\",\n",
    "      \"children\": [\n",
    "        {\n",
    "          \"name\": \"Openness\",\n",
    "          \"normalized_score\": 0.007433305347772033,\n",
    "        },\n",
    "        {\n",
    "          \"name\": \"Conscientiousness\",\n",
    "          \"normalized_score\": 0.12755236383739604,\n",
    "        },\n",
    "        {\n",
    "          \"name\": \"Agreeableness\",\n",
    "          \"normalized_score\": 0.9823627192026213,\n",
    "        }\n",
    "      ]\n",
    "    }\n",
    "]\n",
    "}\n",
    "post_id = s_collection.insert_one(sentiment).inserted_id\n",
    "print(post_id)\n",
    "\n",
    "\n",
    "\n"
   ]
  },
  {
   "cell_type": "code",
   "execution_count": null,
   "metadata": {
    "collapsed": true
   },
   "outputs": [],
   "source": []
  }
 ],
 "metadata": {
  "kernelspec": {
   "display_name": "Python 2",
   "language": "python",
   "name": "python2"
  },
  "language_info": {
   "codemirror_mode": {
    "name": "ipython",
    "version": 2
   },
   "file_extension": ".py",
   "mimetype": "text/x-python",
   "name": "python",
   "nbconvert_exporter": "python",
   "pygments_lexer": "ipython2",
   "version": "2.7.11"
  }
 },
 "nbformat": 4,
 "nbformat_minor": 0
}
